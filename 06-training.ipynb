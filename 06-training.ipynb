{
  "nbformat": 4,
  "nbformat_minor": 0,
  "metadata": {
    "kernelspec": {
      "display_name": "Python 3",
      "language": "python",
      "name": "python3"
    },
    "language_info": {
      "codemirror_mode": {
        "name": "ipython",
        "version": 3
      },
      "file_extension": ".py",
      "mimetype": "text/x-python",
      "name": "python",
      "nbconvert_exporter": "python",
      "pygments_lexer": "ipython3",
      "version": "3.8.8"
    },
    "name": "06-training.ipynb",
    "colab": {
      "name": "06-training.ipynb",
      "provenance": []
    },
    "accelerator": "GPU",
    "widgets": {
      "application/vnd.jupyter.widget-state+json": {
        "ac2e80835fda4f0b9d588eac78f134de": {
          "model_module": "@jupyter-widgets/controls",
          "model_name": "HBoxModel",
          "state": {
            "_view_name": "HBoxView",
            "_dom_classes": [],
            "_model_name": "HBoxModel",
            "_view_module": "@jupyter-widgets/controls",
            "_model_module_version": "1.5.0",
            "_view_count": null,
            "_view_module_version": "1.5.0",
            "box_style": "",
            "layout": "IPY_MODEL_6e43488419c14bbd8bc75f2d6c4401ba",
            "_model_module": "@jupyter-widgets/controls",
            "children": [
              "IPY_MODEL_c1858ad016b44907947a8d65fb12cd2b",
              "IPY_MODEL_9acfbab0a8934f19968e129219d09278"
            ]
          }
        },
        "6e43488419c14bbd8bc75f2d6c4401ba": {
          "model_module": "@jupyter-widgets/base",
          "model_name": "LayoutModel",
          "state": {
            "_view_name": "LayoutView",
            "grid_template_rows": null,
            "right": null,
            "justify_content": null,
            "_view_module": "@jupyter-widgets/base",
            "overflow": null,
            "_model_module_version": "1.2.0",
            "_view_count": null,
            "flex_flow": null,
            "width": null,
            "min_width": null,
            "border": null,
            "align_items": null,
            "bottom": null,
            "_model_module": "@jupyter-widgets/base",
            "top": null,
            "grid_column": null,
            "overflow_y": null,
            "overflow_x": null,
            "grid_auto_flow": null,
            "grid_area": null,
            "grid_template_columns": null,
            "flex": null,
            "_model_name": "LayoutModel",
            "justify_items": null,
            "grid_row": null,
            "max_height": null,
            "align_content": null,
            "visibility": null,
            "align_self": null,
            "height": null,
            "min_height": null,
            "padding": null,
            "grid_auto_rows": null,
            "grid_gap": null,
            "max_width": null,
            "order": null,
            "_view_module_version": "1.2.0",
            "grid_template_areas": null,
            "object_position": null,
            "object_fit": null,
            "grid_auto_columns": null,
            "margin": null,
            "display": null,
            "left": null
          }
        },
        "c1858ad016b44907947a8d65fb12cd2b": {
          "model_module": "@jupyter-widgets/controls",
          "model_name": "FloatProgressModel",
          "state": {
            "_view_name": "ProgressView",
            "style": "IPY_MODEL_ee20fe47600f4e18b3c858451f964ef8",
            "_dom_classes": [],
            "description": "",
            "_model_name": "FloatProgressModel",
            "bar_style": "success",
            "max": 169001437,
            "_view_module": "@jupyter-widgets/controls",
            "_model_module_version": "1.5.0",
            "value": 169001437,
            "_view_count": null,
            "_view_module_version": "1.5.0",
            "orientation": "horizontal",
            "min": 0,
            "description_tooltip": null,
            "_model_module": "@jupyter-widgets/controls",
            "layout": "IPY_MODEL_31be0d57901b4499ab4236b74f24b8da"
          }
        },
        "9acfbab0a8934f19968e129219d09278": {
          "model_module": "@jupyter-widgets/controls",
          "model_name": "HTMLModel",
          "state": {
            "_view_name": "HTMLView",
            "style": "IPY_MODEL_552b74d1ed06449d88f60a1168f991ef",
            "_dom_classes": [],
            "description": "",
            "_model_name": "HTMLModel",
            "placeholder": "​",
            "_view_module": "@jupyter-widgets/controls",
            "_model_module_version": "1.5.0",
            "value": " 169001984/? [00:05&lt;00:00, 30921582.05it/s]",
            "_view_count": null,
            "_view_module_version": "1.5.0",
            "description_tooltip": null,
            "_model_module": "@jupyter-widgets/controls",
            "layout": "IPY_MODEL_f1e8fb860d664edbb3c5749f40f44462"
          }
        },
        "ee20fe47600f4e18b3c858451f964ef8": {
          "model_module": "@jupyter-widgets/controls",
          "model_name": "ProgressStyleModel",
          "state": {
            "_view_name": "StyleView",
            "_model_name": "ProgressStyleModel",
            "description_width": "initial",
            "_view_module": "@jupyter-widgets/base",
            "_model_module_version": "1.5.0",
            "_view_count": null,
            "_view_module_version": "1.2.0",
            "bar_color": null,
            "_model_module": "@jupyter-widgets/controls"
          }
        },
        "31be0d57901b4499ab4236b74f24b8da": {
          "model_module": "@jupyter-widgets/base",
          "model_name": "LayoutModel",
          "state": {
            "_view_name": "LayoutView",
            "grid_template_rows": null,
            "right": null,
            "justify_content": null,
            "_view_module": "@jupyter-widgets/base",
            "overflow": null,
            "_model_module_version": "1.2.0",
            "_view_count": null,
            "flex_flow": null,
            "width": null,
            "min_width": null,
            "border": null,
            "align_items": null,
            "bottom": null,
            "_model_module": "@jupyter-widgets/base",
            "top": null,
            "grid_column": null,
            "overflow_y": null,
            "overflow_x": null,
            "grid_auto_flow": null,
            "grid_area": null,
            "grid_template_columns": null,
            "flex": null,
            "_model_name": "LayoutModel",
            "justify_items": null,
            "grid_row": null,
            "max_height": null,
            "align_content": null,
            "visibility": null,
            "align_self": null,
            "height": null,
            "min_height": null,
            "padding": null,
            "grid_auto_rows": null,
            "grid_gap": null,
            "max_width": null,
            "order": null,
            "_view_module_version": "1.2.0",
            "grid_template_areas": null,
            "object_position": null,
            "object_fit": null,
            "grid_auto_columns": null,
            "margin": null,
            "display": null,
            "left": null
          }
        },
        "552b74d1ed06449d88f60a1168f991ef": {
          "model_module": "@jupyter-widgets/controls",
          "model_name": "DescriptionStyleModel",
          "state": {
            "_view_name": "StyleView",
            "_model_name": "DescriptionStyleModel",
            "description_width": "",
            "_view_module": "@jupyter-widgets/base",
            "_model_module_version": "1.5.0",
            "_view_count": null,
            "_view_module_version": "1.2.0",
            "_model_module": "@jupyter-widgets/controls"
          }
        },
        "f1e8fb860d664edbb3c5749f40f44462": {
          "model_module": "@jupyter-widgets/base",
          "model_name": "LayoutModel",
          "state": {
            "_view_name": "LayoutView",
            "grid_template_rows": null,
            "right": null,
            "justify_content": null,
            "_view_module": "@jupyter-widgets/base",
            "overflow": null,
            "_model_module_version": "1.2.0",
            "_view_count": null,
            "flex_flow": null,
            "width": null,
            "min_width": null,
            "border": null,
            "align_items": null,
            "bottom": null,
            "_model_module": "@jupyter-widgets/base",
            "top": null,
            "grid_column": null,
            "overflow_y": null,
            "overflow_x": null,
            "grid_auto_flow": null,
            "grid_area": null,
            "grid_template_columns": null,
            "flex": null,
            "_model_name": "LayoutModel",
            "justify_items": null,
            "grid_row": null,
            "max_height": null,
            "align_content": null,
            "visibility": null,
            "align_self": null,
            "height": null,
            "min_height": null,
            "padding": null,
            "grid_auto_rows": null,
            "grid_gap": null,
            "max_width": null,
            "order": null,
            "_view_module_version": "1.2.0",
            "grid_template_areas": null,
            "object_position": null,
            "object_fit": null,
            "grid_auto_columns": null,
            "margin": null,
            "display": null,
            "left": null
          }
        }
      }
    }
  },
  "cells": [
    {
      "cell_type": "markdown",
      "metadata": {
        "id": "IMDcFHeqRcTu"
      },
      "source": [
        "# Table of Contents\n",
        "\n",
        "- [Training](#train)\n",
        "- [Exercises](#exercises)"
      ]
    },
    {
      "cell_type": "markdown",
      "metadata": {
        "id": "8uw8GrzfRcTx"
      },
      "source": [
        "# Housekeeping\n",
        "\n",
        "- Some references for today\n",
        "  - [Official pytorch tutorials](https://pytorch.org/tutorials/)\n",
        "  - [Pytorch tutorials by yunjey, from beginning to advanced](https://github.com/yunjey/pytorch-tutorial)\n",
        "  - [MIT Intro to Deep Learning](https://www.youtube.com/watch?v=njKP3FqW3Sk&list=PLtBw6njQRU-rwp5__7C0oIVt26ZgjG9NI&index=1) lecture video \n",
        "    (overview of machine learning and neural networks)\n",
        "  - [Machine Learning Basics](https://www.deeplearningbook.org/contents/ml.html) from the Deep Learning Book \n",
        "    (especially section 5.2 on Capacity, Overfitting and Underfitting)\n",
        "- Today's url \n",
        "  - https://git.io/ml2021-06\n",
        "- Email if you need help with any of this!\n",
        "\n",
        "# Some Preliminary Words on Training <a id=\"training\" />\n",
        "\n",
        "- In the last weeks, we learnt how to create neural networks in pytorch, and\n",
        "  about some of the loss functions and optimizers we are able to use\n",
        "- We saw its easy to take some data, throw a neural network at it and\n",
        "  get it to train\n",
        "- The hard part is developing a *good* model for the data\n",
        "- Neural networks are prone to failure modes we'll discuss today\n",
        "- Its important to understand these failure modes and build *robust*\n",
        "  networks\n",
        "- So, before moving onto the deep learning topics that we'll spend the\n",
        "  rest of the course on, lets stop and talk a bit about training\n",
        "\n",
        "# Generalization\n",
        "\n",
        "- The goal of building a model on known inputs is that we want the\n",
        "  model to *generalize* to unlabelled data\n",
        "- That is, the data should correctly classify data from outside the training set\n",
        "- If the model only works on datapoints in the training, its not much use\n",
        "  - Imagine your a medical expert training a network to detect cancer,\n",
        "    you build a cancer classifier which takes as inputs MRI scans. If\n",
        "    it works correctly on images its seen in the training set\n",
        "    (labelled by doctors based on patient outcomes), but randomly\n",
        "    assigns labels to other images, its not useful to you at all, and\n",
        "    could cost lives!\n",
        "- The goal of this lesson is to figure out how best to train models\n",
        "  that generalize\n",
        "\n",
        "# Undertraining and Overtraining\n",
        "\n",
        "- **Undertraining** is when a model isn't complex enough to be able to\n",
        "  find the trends in the data\n",
        "  - Imagine a regression task where the data follows a quadratic\n",
        "    curve, fitting a linear function won't be able to capture all the information\n",
        "- **Overtraining** is when a model is too complex and it begins fitting\n",
        "  *fluctuations* in the labelled datapoints\n",
        "  - We imagine theres some random errors in the data that can't be\n",
        "    modelled, when a model is overtrained, it takes these random\n",
        "    errors seriously and forms a model for them, which can't\n",
        "    generalize to unseen data\n",
        "\n",
        "As we increase the polynomial order of the fit function, we start to overtrain\n"
      ]
    },
    {
      "cell_type": "code",
      "metadata": {
        "id": "NUVkpXccRcTy",
        "colab": {
          "base_uri": "https://localhost:8080/",
          "height": 480
        },
        "outputId": "bc4b2abf-ba63-4f68-cca6-c8f6b3feefbe"
      },
      "source": [
        "import torch\n",
        "import numpy as np\n",
        "import matplotlib.pyplot as plt\n",
        "npoints = 50\n",
        "red = torch.stack((torch.randn(npoints), torch.randn(npoints)), axis=1)\n",
        "blue = torch.stack((torch.randn(npoints)+1.5, torch.randn(npoints)+1.5), axis=1)\n",
        "\n",
        "plt.scatter(red[:,0], red[:,1], c='r');plt.scatter(blue[:,0], blue[:,1], c='b')\n",
        "plt.show()\n",
        "\n",
        "class Model(torch.nn.Module):\n",
        "  def __init__(self, n):\n",
        "    super(Model, self).__init__()\n",
        "    self.n = n\n",
        "    self.fc1 = torch.nn.Linear(2,n)\n",
        "    self.fc2 = torch.nn.Linear(n,n)\n",
        "    self.fc3 = torch.nn.Linear(n,1)\n",
        "  def forward(self, x):\n",
        "    #x = torch.stack([x**i for i in range(self.n+1)], axis=1)\n",
        "    x = th.relu(self.fc1(x))\n",
        "    x = th.relu(self.fc2(x))\n",
        "    x = th.sigmoid(self.fc3(x))\n",
        "    return x\n",
        "\n",
        "xs = th.cat([red,blue])\n",
        "ys = th.cat([th.ones(len(red)), th.zeros(len(blue))])\n",
        "print(\"UNDERTRAINED?\")\n",
        "\n",
        "def showmodel(n):\n",
        " m = Model(n)\n",
        " lossf = torch.nn.BCELoss()\n",
        " optim = torch.optim.AdamW(m.parameters(),lr=0.01)\n",
        " for _ in range(2500):\n",
        "   optim.zero_grad()\n",
        "   fs = m(xs)\n",
        "   loss = lossf(fs.view(-1), ys)\n",
        "   loss.backward()\n",
        "   optim.step()\n",
        " x1,x2=np.meshgrid(np.linspace(-4,4), np.linspace(-4,4))\n",
        " col = m(th.tensor(np.dstack([x1,x2])).float())\n",
        " plt.imshow(col.detach().numpy(),origin='lower',extent=(-4,4,-4,4), cmap='bwr')\n",
        " plt.scatter(red[:,0], red[:,1], c='r',edgecolor='k');plt.scatter(blue[:,0], blue[:,1], c='b', edgecolor='k')\n",
        " plt.show()\n",
        "showmodel(2)\n",
        "showmodel(8)\n",
        "showmodel(32)\n",
        "showmodel(256)\n",
        "print(\"OVERTRAINED?\")\n"
      ],
      "execution_count": null,
      "outputs": [
        {
          "output_type": "display_data",
          "data": {
            "image/png": "[encoded data removed]",
            "text/plain": [
              "<Figure size 432x288 with 1 Axes>"
            ]
          },
          "metadata": {
            "tags": [],
            "needs_background": "light"
          }
        },
        {
          "output_type": "error",
          "ename": "NameError",
          "evalue": "ignored",
          "traceback": [
            "\u001b[0;31m---------------------------------------------------------------------------\u001b[0m",
            "\u001b[0;31mNameError\u001b[0m                                 Traceback (most recent call last)",
            "\u001b[0;32m<ipython-input-1-1f536c2e3784>\u001b[0m in \u001b[0;36m<module>\u001b[0;34m()\u001b[0m\n\u001b[1;32m     23\u001b[0m     \u001b[0;32mreturn\u001b[0m \u001b[0mx\u001b[0m\u001b[0;34m\u001b[0m\u001b[0;34m\u001b[0m\u001b[0m\n\u001b[1;32m     24\u001b[0m \u001b[0;34m\u001b[0m\u001b[0m\n\u001b[0;32m---> 25\u001b[0;31m \u001b[0mxs\u001b[0m \u001b[0;34m=\u001b[0m \u001b[0mth\u001b[0m\u001b[0;34m.\u001b[0m\u001b[0mcat\u001b[0m\u001b[0;34m(\u001b[0m\u001b[0;34m[\u001b[0m\u001b[0mred\u001b[0m\u001b[0;34m,\u001b[0m\u001b[0mblue\u001b[0m\u001b[0;34m]\u001b[0m\u001b[0;34m)\u001b[0m\u001b[0;34m\u001b[0m\u001b[0;34m\u001b[0m\u001b[0m\n\u001b[0m\u001b[1;32m     26\u001b[0m \u001b[0mys\u001b[0m \u001b[0;34m=\u001b[0m \u001b[0mth\u001b[0m\u001b[0;34m.\u001b[0m\u001b[0mcat\u001b[0m\u001b[0;34m(\u001b[0m\u001b[0;34m[\u001b[0m\u001b[0mth\u001b[0m\u001b[0;34m.\u001b[0m\u001b[0mones\u001b[0m\u001b[0;34m(\u001b[0m\u001b[0mlen\u001b[0m\u001b[0;34m(\u001b[0m\u001b[0mred\u001b[0m\u001b[0;34m)\u001b[0m\u001b[0;34m)\u001b[0m\u001b[0;34m,\u001b[0m \u001b[0mth\u001b[0m\u001b[0;34m.\u001b[0m\u001b[0mzeros\u001b[0m\u001b[0;34m(\u001b[0m\u001b[0mlen\u001b[0m\u001b[0;34m(\u001b[0m\u001b[0mblue\u001b[0m\u001b[0;34m)\u001b[0m\u001b[0;34m)\u001b[0m\u001b[0;34m]\u001b[0m\u001b[0;34m)\u001b[0m\u001b[0;34m\u001b[0m\u001b[0;34m\u001b[0m\u001b[0m\n\u001b[1;32m     27\u001b[0m \u001b[0mprint\u001b[0m\u001b[0;34m(\u001b[0m\u001b[0;34m\"UNDERTRAINED?\"\u001b[0m\u001b[0;34m)\u001b[0m\u001b[0;34m\u001b[0m\u001b[0;34m\u001b[0m\u001b[0m\n",
            "\u001b[0;31mNameError\u001b[0m: name 'th' is not defined"
          ]
        }
      ]
    },
    {
      "cell_type": "markdown",
      "metadata": {
        "id": "fzgASgIWRcT1"
      },
      "source": [
        "# Model Capacity\n",
        "- A model's *capacity* is its ability to fit a wide variety of functions\n",
        "- Models with low capacity might struggle to fit the training set,\n",
        "  while those with high capacity can memorize parts of the training\n",
        "  set that don't generalize, in the extreme just memorizes the entire dataset\n",
        "- Capacity can be controlled in different ways depending on the model\n",
        "- E.g. last week we considered linear regression, we can increase the\n",
        "  capacity by allow higher order terms as new features\n",
        "  - Linear regression models the relationship of $y$ and $x$ by assuming $y = ax + b$\n",
        "  - If we introduce $x^2$ as a feature, we can additionally model\n",
        "    quadratic relationships, $y=ax^2+bx+c$\n",
        "  - The more terms we allow, the more features we can model, but the\n",
        "    greater the chance we memorize datapoints rather than the trends\n",
        "- For our basic neural networks, capacity increases with increasing\n",
        "  number of nodes in the hidden layer, and with increasing number of\n",
        "  layers\n",
        "\n",
        "# The Bias-Variance Tradeoff\n",
        "\n"
      ]
    },
    {
      "cell_type": "code",
      "metadata": {
        "id": "hiVmuFufRcT3"
      },
      "source": [
        "from IPython.display import Image\n",
        "Image(\"bias-variance.png\")"
      ],
      "execution_count": null,
      "outputs": []
    },
    {
      "cell_type": "markdown",
      "metadata": {
        "id": "1_h5ufL1RcT3"
      },
      "source": [
        "- *Bias*: the difference between our model prediction and the datapoints\n",
        "  - A high *bias* model has large differences between the datapoints\n",
        "  - A model which doesn't have enough parameters *underfits* the data\n",
        "- *Variance, a measure of the fluctuations of the data or model, high\n",
        "  variance models are typically fitting the intrinsic noise of the data\n",
        "  - A high variance model implies small changes in the input cause large changes in the output\n",
        "  - A high variance model with too many parameters *overfits* the data\n",
        "- The *bias-variance trade off* is a theorem which tells us that you\n",
        "  trade off model bias for variance and vice-versa, in practice we try\n",
        "  to find a happy medium between the two\n",
        "  - (Formally, the bias variance tradeoff concerns the behaivour of\n",
        "    statistical estimators, in practice in ML, we have a fuzzy idea as\n",
        "    described above, see the Deep Learning Book for the math)\n",
        "\n",
        "# Testing and Training"
      ]
    },
    {
      "cell_type": "code",
      "metadata": {
        "id": "UF5orXBORcT4"
      },
      "source": [
        "plt.plot(training_loss, label='train')\n",
        "plt.plot(testing_loss, label='test')\n",
        "plt.legend(loc='upper right'); plt.xlabel('epoch'); plt.ylabel('loss')"
      ],
      "execution_count": null,
      "outputs": []
    },
    {
      "cell_type": "markdown",
      "metadata": {
        "id": "UNU6CIyNRcT4"
      },
      "source": [
        "- When <font color=blue>training</font> a model, in order to check for overtraining, we\n",
        "  generally set aside some portion of the (labelled) data as a <font color=orange>test set</font>\n",
        "  - The <font color=orange>test set</font> is *never* used in the <font color=blue>training</font> stage\n",
        "  - The exactly split depends on how much data you have, 20% is a good\n",
        "    rough number if you really have no idea\n",
        "- We periodically check the model with the <font color=orange>test set</font>, and check to see\n",
        "  if the average loss of the <font color=blue>training</font>\n",
        "- The <font color=blue>training</font> average should follow the <font color=orange>test set</font> average, they will\n",
        "  diverge when the model starts overtraining\n",
        "\n",
        "# k-fold Cross-Validation\n",
        "- For models which can be trivially trained in a short amount of time,\n",
        "  you can also do more sophisticated checks such as k-fold\n",
        "  cross-validation\n",
        "  - Split the data into k equal sized subset, train k times, holding a\n",
        "    different subset each time, where each time training with k-1 of\n",
        "    the subsets, and using the the held out subset as the training sample\n",
        "  - You can use the properties of the k predictions as an estimator of\n",
        "    the bias and variance of the selected model (typically, you would\n",
        "    be using this to tune hyperparameters or something similar)\n",
        "- High bias models will have uniformly bad results across all test cases\n",
        "  - Always gets it wrong, but wrong in the same way across the test sets\n",
        "- High variance models will have highly divergent results between the\n",
        "  test sets\n",
        "  - Gets it wrong in unique ways across the test sets, since the\n",
        "    different sets have different exact fluctuations\n",
        "- A typical training regime could be:\n",
        "  - split into test and training, \n",
        "  - do k-fold cross-validation to find a good set of hyperparameters, \n",
        "  - train on the full training set, then \n",
        "  - check performance on the test set\n",
        "\n",
        "# Early Stopping\n",
        "\n",
        "- In deep learning, a single model can contain millions of parameters\n",
        "  and training can take days or weeks\n",
        "- In this case, sophisticated techniques aren't viable and instead, as\n",
        "  well as saving information on the loss, you also save the model weights\n",
        "- Then you check the testing-training loss as you go, and *choose* the\n",
        "  model parameters when the test and training curves begin diverging\n",
        "- This is early stopping, you stop training and take the model at a\n",
        "  point where it hasn't overtrained, rather than fully training the\n",
        "  model\n",
        "- In the case illustrated here, my solution to today's exercise,\n",
        "  the model starts overtraining after 4 or 5 epochs, so we'd use the\n",
        "  5-epoch model"
      ]
    },
    {
      "cell_type": "markdown",
      "metadata": {
        "id": "9qRcd9vBRcT5"
      },
      "source": [
        "# Training, Testing and Validation\n",
        "\n",
        "- One further complication, if you're also doing an extensive\n",
        "  *hyperparameter* search, you may also want to set aside a\n",
        "  `validation` set, as well as a testing and training set\n",
        "  - *hyperparameters* are parameters used in training the model, which\n",
        "    could be the loss rate of the SGD, the number of nodes, or even\n",
        "    switching in and out different types of models\n",
        "- In an extensive hyperparameter search, you could also be implicitly\n",
        "  tuning to the testing set, since you're using the testing results as a\n",
        "  goodness-of-model for potentially thousands of models\n",
        "  - Thus, the model you choose might just happen to be a good fit to\n",
        "    the test set because you're comparing lots of models via the test\n",
        "    set, not because it actually generalizes well\n",
        "- Thus, the validation set is set aside and not used in the testing\n",
        "  stage, but only after you've selected your final model\n",
        "  - A truly generalizable model should also have good properties on\n",
        "    the validation set, if not, you may have fit the hyperparameters\n",
        "    to the test, rather than found a generalizable model\n",
        "- When you're searching for a good model for your problem and have\n",
        "  lots of data, also keep aside a validation dataset for a final\n",
        "  validation of your selected model\n"
      ]
    },
    {
      "cell_type": "markdown",
      "metadata": {
        "id": "47_SDJ3-RcT6"
      },
      "source": [
        "# Testing and Training in PyTorch\n",
        "\n",
        "- In pytorch, you should set your network into training mode when\n",
        "  training, and evaluation mode when testing (or running in production)\n",
        "- The differences will become important and make more sense when we\n",
        "  start talking about *regularization* later on in the course\n",
        "  - For now, just get use to the fact that you should set the network\n",
        "    into training mode when training, and eval mode otherwise\n",
        "\n"
      ]
    },
    {
      "cell_type": "code",
      "metadata": {
        "id": "6ifKnu5ARcT6"
      },
      "source": [
        "net.train() # set into training mode\n",
        "# do training\n",
        "net.eval() # set into evaluation mode\n",
        "# do testing, or production"
      ],
      "execution_count": null,
      "outputs": []
    },
    {
      "cell_type": "markdown",
      "metadata": {
        "id": "KkHGt1VkRcT6"
      },
      "source": [
        "# A Typical Training Loop in PyTorch\n",
        "\n",
        "- Here is a basic training loop with a testing phase at the end of each epoch\n",
        "- Assume `net` is our neural net (or other model), `data_training` is\n",
        "  a list of `(input, label)` pairs pre-split into minibatches and\n",
        "  `data_testing` is a tuple of the test inputs and corresponding labels,\n",
        "  `optimizer` is the optimizer, `criterion` is the loss function,\n",
        "  `device` is a cuda or cpu device\n",
        "- We keep track of the running loss to compute the average over the\n",
        "  epoch and compare with the test set\n"
      ]
    },
    {
      "cell_type": "code",
      "metadata": {
        "id": "zKTODAr2RcT7"
      },
      "source": [
        "inputs_testing, labels_testing = data_testing[0].to(device), data_testing[1].to(device)\n",
        "for epoch in range(num_epochs):\n",
        "  net.train()\n",
        "  running_loss, running_correct, running_n = 0.0, 0.0, 0.0\n",
        "  for inputs, labels in data_batches:\n",
        "    inputs, labels = inputs.to(device), labels.to(device)\n",
        "    optimizer.zero_grad()\n",
        "    outputs = net(inputs)\n",
        "    loss = criterion(outputs, labels)\n",
        "    loss.backward()\n",
        "    running_loss += loss.item() * inputs.size(0) # loss is the avg. for the batch\n",
        "    # max returns a tuple of tensors: (highest value, index of highest value)\n",
        "    running_correct += torch.sum(torch.max(outputs,1)[1] == labels.data)\n",
        "    running_n += inputs.size(0)\n",
        "    optimizer.step()\n",
        "  print(\"Train loss: {:.3f} acc: {:.3f}\".format(running_loss / running_n, running_correct / running_n))\n",
        "  net.eval()\n",
        "  outputs = net(inputs_testing)\n",
        "  loss = criterion(outputs, labels_testing)\n",
        "  print(\"Test  loss: {:.3f} acc: {:.3f}\".format(loss / inputs_testing.size(0))))"
      ],
      "execution_count": null,
      "outputs": []
    },
    {
      "cell_type": "markdown",
      "metadata": {
        "id": "HWR2oHtoRcT7"
      },
      "source": [
        "# Early Stopping in PyTorch, Saving/Loading Models\n",
        "\n",
        "- In pytorch, saving a model implies saving the model weights\n",
        "  - To load the model, you create the model as normal, and then load the saved weights back in\n",
        "- To save the model weights into a file, you can use `torch.save`, which you need to pass the \"state_dict\" and a filename"
      ]
    },
    {
      "cell_type": "code",
      "metadata": {
        "id": "RIusTeuIRcT8"
      },
      "source": [
        "torch.save(model.state_dict(), 'model_weights.pth')"
      ],
      "execution_count": null,
      "outputs": []
    },
    {
      "cell_type": "markdown",
      "metadata": {
        "id": "5DhsMlfvRcT9"
      },
      "source": [
        "- To load the weights back in, create the model, then call `load_state_dict` with the result of `torch.load`"
      ]
    },
    {
      "cell_type": "markdown",
      "metadata": {
        "id": "Tt6yqbSaRcT9"
      },
      "source": [
        "model = Net() # Say we have a network called `Net`\n",
        "model.load_state_dict(torch.load('model_weights.pth'))"
      ]
    },
    {
      "cell_type": "markdown",
      "metadata": {
        "id": "UmhNz4XBRcT-"
      },
      "source": [
        "- To implement early stopping, we can keep track of the testing loss, and save the model whenever we have the lowest currently seen loss\n",
        "- In this way, what gets saved out at the end of the run is the model state with the lowest seen training loss over the whole training\n",
        "\n",
        "One final ancilliary issue: you can build up straightfoward networks with `Sequential`, which will pass the data through one layer at a time. There are `th.nn.ReLU` and equivalent layers for the activation functions. This is limited if you want to make some of the more interesting networks we will see in the future, but in the complete example below, you can see its even useful for defining subnetworks inside a full network."
      ]
    },
    {
      "cell_type": "code",
      "metadata": {
        "id": "DxEuO3kzRcT-"
      },
      "source": [
        "# A Fisher Iris network 4 inputs -> 32 hidden layer with relu activation -> 3 outputs\n",
        "net = th.nn.Sequential(th.nn.Linear(4,32), th.nn.ReLU(), th.nn.Linear(32, 3))\n",
        "net(th.tensor([1,2,3,4.]))"
      ],
      "execution_count": null,
      "outputs": []
    },
    {
      "cell_type": "markdown",
      "metadata": {
        "id": "P8YbDDG8RcT_"
      },
      "source": [
        "Here is a complete example, using the FasionMNIST dataset  with a simple CNN. As always, when running, change the data directory to somewhere you have access to. Its a nice example of overtraining. Here, instead of running for a fixed number of epochs, we run until we haven't saved the network out for 20 epochs. This is another hyperparameter sometimes called \"patience\"."
      ]
    },
    {
      "cell_type": "code",
      "metadata": {
        "id": "rKedKhVyRcT_"
      },
      "source": [
        "device = 'cuda'\n",
        "import torch as th\n",
        "import torchvision as tv\n",
        "from collections import defaultdict\n",
        "import matplotlib.pyplot as plt\n",
        "trans = tv.transforms.ToTensor()\n",
        "train = th.utils.data.DataLoader(tv.datasets.FashionMNIST('/data/torchvision', train=True, download=True, transform=trans), batch_size=256)\n",
        "test = th.utils.data.DataLoader(tv.datasets.FashionMNIST('/data/torchvision', train=False, download=True, transform=trans), batch_size=256)\n",
        "\n",
        "class FNet(th.nn.Module):\n",
        "    def __init__(self):\n",
        "        super().__init__()\n",
        "        # pack the conv2d+relu into a single structure\n",
        "        self.c1 = th.nn.Sequential(th.nn.Conv2d(1,8,7), th.nn.ReLU())\n",
        "        self.c2 = th.nn.Sequential(th.nn.Conv2d(8,16,5), th.nn.ReLU())\n",
        "        self.c3 = th.nn.Sequential(th.nn.Conv2d(16,32,3), th.nn.ReLU())\n",
        "        self.fc = th.nn.Linear(32*16*16,10)\n",
        "    def forward(self, x):\n",
        "        x = self.c1(x) # conv2d + relu, 22x22\n",
        "        x = self.c2(x) # 18x18\n",
        "        x = self.c3(x) # 16x16\n",
        "        x = x.view(-1, 32*16*16)\n",
        "        x = self.fc(x)\n",
        "        return x\n",
        "\n",
        "net = FNet().to(device)\n",
        "opt = th.optim.Adam(net.parameters())\n",
        "l = th.nn.CrossEntropyLoss()\n",
        "per_epoch = defaultdict(lambda:[])\n",
        "last_save = 0\n",
        "e = 0\n",
        "while last_save < 20:\n",
        "    per_batch = defaultdict(lambda:[])\n",
        "    for images, labels in train:\n",
        "        opt.zero_grad()\n",
        "        outputs = net(images.to(device))\n",
        "        loss = l(outputs, labels.to(device))\n",
        "        loss.backward()\n",
        "        opt.step()\n",
        "        per_batch[\"loss\"].append(loss.item()*images.size(0))\n",
        "        per_batch[\"corr\"].append(sum(th.max(outputs,1)[1].cpu()==labels))\n",
        "        per_batch[\"n\"].append(images.size(0))\n",
        "    per_epoch[\"loss\"].append(sum(per_batch[\"loss\"])/sum(per_batch[\"n\"]))\n",
        "    per_epoch[\"acc\"].append(sum(per_batch[\"corr\"])/sum(per_batch[\"n\"]))\n",
        "    for images, labels in test:\n",
        "        outputs = net(images.to(device))\n",
        "        loss = l(outputs, labels.to(device))\n",
        "        per_batch[\"tloss\"].append(loss.item()*images.size(0))\n",
        "        per_batch[\"tcorr\"].append(sum(th.max(outputs,1)[1].cpu()==labels))\n",
        "        per_batch[\"tn\"].append(images.size(0))\n",
        "    per_epoch[\"tloss\"].append(sum(per_batch[\"tloss\"])/sum(per_batch[\"tn\"]))\n",
        "    per_epoch[\"tacc\"].append(sum(per_batch[\"tcorr\"])/sum(per_batch[\"tn\"]))\n",
        "    print(f'epoch {e:03d} : train loss {per_epoch[\"loss\"][-1]:.3f} acc {per_epoch[\"acc\"][-1]:.3f} test loss {per_epoch[\"tloss\"][-1]:.3f} acc {per_epoch[\"tacc\"][-1]:.3f}')\n",
        "    # early stopping: if we are at the best epoch (= epoch with lowest loss), save the weights\n",
        "    last_save += 1; e += 1\n",
        "    if per_epoch[\"tloss\"][-1] == min(per_epoch[\"tloss\"]):\n",
        "        print(\"  saving network\")\n",
        "        th.save(net.state_dict(), 'fnet_weights.pt')\n",
        "        last_save = 0\n",
        "print(\"done training.\")\n",
        "# reload the best weights\n",
        "net.load_state_dict(th.load('fnet_weights.pt'))\n",
        "# Make plots of the training/testing losses\n",
        "plt.plot(per_epoch[\"loss\"], label=\"train\")\n",
        "plt.plot(per_epoch[\"tloss\"], label=\"test\")\n",
        "plt.legend(loc=\"upper right\")"
      ],
      "execution_count": null,
      "outputs": []
    },
    {
      "cell_type": "markdown",
      "metadata": {
        "id": "VNytZ60oRcT_"
      },
      "source": [
        ""
      ]
    },
    {
      "cell_type": "markdown",
      "metadata": {
        "id": "jnntpi_TRcT_"
      },
      "source": [
        "# Exercises <a id=\"exercises\" />\n",
        "\n",
        "- The exercises will introduce the CIFAR100 dataset, for which, as usual, we will\n",
        "  use the `torchvision` package to download and set up a `DataLoader`,\n",
        "  another helper feature that torch provides to help us process by\n",
        "  mini-batches.\n",
        "\n",
        "Today, lets introduce a more difficult. The goal of cifar100 is to take 32x32 color images of handwritten\n",
        "digits and classify each image into one of 100 categories.\n",
        "\n",
        "https://www.cs.toronto.edu/~kriz/cifar.html"
      ]
    },
    {
      "cell_type": "code",
      "metadata": {
        "id": "wgPD1f9-RcUA"
      },
      "source": [
        "import torch as th\n",
        "import torchvision as tv\n",
        "trans = tv.transforms.ToTensor()\n",
        "train = tv.datasets.CIFAR100('/data/torchvision', train=True, download=True, transform=trans)\n",
        "test = tv.datasets.CIFAR100('/data/torchvision', train=False, download=True, transform=trans)\n",
        "print(train, \"\\n\", test)"
      ],
      "execution_count": null,
      "outputs": []
    },
    {
      "cell_type": "markdown",
      "metadata": {
        "id": "kY8BH54DRcUA"
      },
      "source": [
        "The dataset can be iterated over and will return one image every\n",
        "iteration. In the following cell, change the cell so that it displays\n",
        "the first five images of the dataset, and prints out the corresponding\n",
        "truth labels. You can use, for example, `matplotlib.pyplot.imshow`to\n",
        "display the images. The data is 3x32x32, but `imshow` expects the color channels to come *last*, so you will need to shuffle the axes in order to do this. Check the pytorch documentation on `permute` to do this."
      ]
    },
    {
      "cell_type": "code",
      "metadata": {
        "id": "KB9pDLp8RcUA",
        "colab": {
          "base_uri": "https://localhost:8080/",
          "height": 300
        },
        "outputId": "b073eb69-b5a0-492d-a062-4732a76a938e"
      },
      "source": [
        "import matplotlib.pyplot as plt\n",
        "for image, label in train:\n",
        "  print(image.shape,'\\n', label)\n",
        "  image2 = image.permute(1, 2, 0)  # [32, 32, 3]\n",
        "  plt.imshow(image2)\n",
        "  plt.show()  \n",
        "  break\n",
        "\n",
        "# Exercise: Update cell to display the images\n",
        "\n"
      ],
      "execution_count": 2,
      "outputs": [
        {
          "output_type": "stream",
          "text": [
            "torch.Size([3, 32, 32]) \n",
            " 19\n"
          ],
          "name": "stdout"
        },
        {
          "output_type": "display_data",
          "data": {
            "image/png": "[encoded data removed]",
            "text/plain": [
              "<Figure size 432x288 with 1 Axes>"
            ]
          },
          "metadata": {
            "tags": [],
            "needs_background": "light"
          }
        }
      ]
    },
    {
      "cell_type": "markdown",
      "metadata": {
        "id": "y4arbVhtRcUB"
      },
      "source": [
        "The CIFAR100 dataset is big, with 60,000 images, 50k training and 10k testing. Therefore, we will\n",
        "process by mini-batches, rather than updating a full gradient descent\n",
        "once every time through the dataset. In order to create mini-batches,\n",
        "we could of course collect the images together ourselves, but lets\n",
        "instead use a `DataLoader`. We can pass the dataset in, and tell how\n",
        "we want to set up the mini-batches. The dataset we downloaded is the\n",
        "correct format to simply pass into the DataLoader, but we will see\n",
        "later that we can also write our own, if we have specialized data."
      ]
    },
    {
      "cell_type": "code",
      "metadata": {
        "id": "K4EXgg4QRcUB",
        "colab": {
          "base_uri": "https://localhost:8080/",
          "height": 338,
          "referenced_widgets": [
            "ac2e80835fda4f0b9d588eac78f134de",
            "6e43488419c14bbd8bc75f2d6c4401ba",
            "c1858ad016b44907947a8d65fb12cd2b",
            "9acfbab0a8934f19968e129219d09278",
            "ee20fe47600f4e18b3c858451f964ef8",
            "31be0d57901b4499ab4236b74f24b8da",
            "552b74d1ed06449d88f60a1168f991ef",
            "f1e8fb860d664edbb3c5749f40f44462"
          ]
        },
        "outputId": "47cebf98-2d4f-4717-9200-3f37f7b162a3"
      },
      "source": [
        "import torch as th\n",
        "import torchvision as tv\n",
        "from collections import defaultdict\n",
        "import matplotlib.pyplot as plt\n",
        "\n",
        "trans = tv.transforms.ToTensor()\n",
        "train = tv.datasets.CIFAR100('/data/torchvision', train=True, download=True, transform=trans)\n",
        "test = tv.datasets.CIFAR100('/data/torchvision', train=False, download=True, transform=trans)\n",
        "print(train, \"\\n\", test)\n",
        "\n",
        "trainloader = th.utils.data.DataLoader(train, batch_size=64)\n",
        "testloader = th.utils.data.DataLoader(test, batch_size=64)\n",
        "# example of how this works, we get a tensor filled with one batch,\n",
        "# and the corresponding labels\n",
        "for images, labels in trainloader:\n",
        "  print(images.shape, labels.shape)\n",
        "  break\n",
        "\n",
        "#다시시작하기 및 모두실행이 필요하다. 종종 GPU로 바꿀때. "
      ],
      "execution_count": 1,
      "outputs": [
        {
          "output_type": "stream",
          "text": [
            "Downloading https://www.cs.toronto.edu/~kriz/cifar-100-python.tar.gz to /data/torchvision/cifar-100-python.tar.gz\n"
          ],
          "name": "stdout"
        },
        {
          "output_type": "display_data",
          "data": {
            "application/vnd.jupyter.widget-view+json": {
              "model_id": "ac2e80835fda4f0b9d588eac78f134de",
              "version_minor": 0,
              "version_major": 2
            },
            "text/plain": [
              "HBox(children=(FloatProgress(value=0.0, max=169001437.0), HTML(value='')))"
            ]
          },
          "metadata": {
            "tags": []
          }
        },
        {
          "output_type": "stream",
          "text": [
            "\n",
            "Extracting /data/torchvision/cifar-100-python.tar.gz to /data/torchvision\n",
            "Files already downloaded and verified\n",
            "Dataset CIFAR100\n",
            "    Number of datapoints: 50000\n",
            "    Root location: /data/torchvision\n",
            "    Split: Train\n",
            "    StandardTransform\n",
            "Transform: ToTensor() \n",
            " Dataset CIFAR100\n",
            "    Number of datapoints: 10000\n",
            "    Root location: /data/torchvision\n",
            "    Split: Test\n",
            "    StandardTransform\n",
            "Transform: ToTensor()\n",
            "torch.Size([64, 3, 32, 32]) torch.Size([64])\n"
          ],
          "name": "stdout"
        }
      ]
    },
    {
      "cell_type": "markdown",
      "metadata": {
        "id": "trLeYW8_RcUB"
      },
      "source": [
        "Now, we're in a position to set up the network. Write a basic\n",
        "convolutional neural network which will train on the CIFAR100 using\n",
        "`torch.nn.Module`. For now, you can keep it simple, with a few convolution layers followed by a fully connected linear layer."
      ]
    },
    {
      "cell_type": "code",
      "metadata": {
        "id": "6WxmKWJ7RcUB"
      },
      "source": [
        "device = 'cuda'\n",
        "\n",
        "class Net(th.nn.Module):\n",
        "  def __init__(self):\n",
        "    super(Net, self).__init__()\n",
        "    self.conv1 = th.nn.Conv2d(3,6,5,1,padding=1) #색깔있는 이미지는 인풋 채널이 3개\n",
        "    self.conv2 = th.nn.Conv2d(6,16,5,1,padding=0) \n",
        "\n",
        "    self.fc1 = th.nn.Linear(400,120) #인풋 잘 찾가. \n",
        "    self.fc2 = th.nn.Linear(120,84)\n",
        "    self.fc3 = th.nn.Linear(84,100)\n",
        "\n",
        "  def forward(self, x):\n",
        "    #x = x.reshape(x.shape[0],-1)\n",
        "    x1 = th.tanh(self.conv1(x))\n",
        "    x1 = th.nn.AvgPool2d(kernel_size=2)(x1)\n",
        "    x2 = th.tanh(self.conv2(x1))\n",
        "    x2 = th.nn.AvgPool2d(kernel_size=2)(x2)\n",
        "    x2 = x2.reshape(x2.shape[0],-1)\n",
        "    # print(x2.shape)\n",
        "    x3 = self.fc1(x2)\n",
        "    x4 = self.fc2(x3)\n",
        "    x = self.fc3(x4)\n",
        "    return x\n",
        "\n",
        "\n"
      ],
      "execution_count": 6,
      "outputs": []
    },
    {
      "cell_type": "markdown",
      "metadata": {
        "id": "uUfYA8yvRcUB"
      },
      "source": [
        "Now that we have a network, we should train it! Create a training loop\n",
        "and train the network. You'll have to think what loss to use and\n",
        "choose an optimizer. Keep track of the average loss for training and\n",
        "testing of each epoch. Remember to use the GPU! Don't be too worried about getting high accuracy for the moment, just much better than chance."
      ]
    },
    {
      "cell_type": "code",
      "metadata": {
        "id": "xvYVjpsCRcUB",
        "colab": {
          "base_uri": "https://localhost:8080/",
          "height": 1000
        },
        "outputId": "6b5530d0-cf17-4c5a-f7cb-25e5951c0830"
      },
      "source": [
        "\n",
        "net = Net().to(device)\n",
        "opt = th.optim.Adam(net.parameters())\n",
        "l = th.nn.CrossEntropyLoss()\n",
        "per_epoch = defaultdict(lambda:[])\n",
        "last_save = 0\n",
        "e = 0\n",
        "\n",
        "while last_save < 20:\n",
        "    per_batch = defaultdict(lambda:[])\n",
        "    for images, labels in trainloader :\n",
        "        opt.zero_grad()\n",
        "        outputs = net(images.to(device))\n",
        "        loss = l(outputs, labels.to(device))\n",
        "        loss.backward()\n",
        "        opt.step()\n",
        "        per_batch[\"loss\"].append(loss.item()*images.size(0))\n",
        "        per_batch[\"corr\"].append(sum(th.max(outputs,1)[1].cpu()==labels))\n",
        "        per_batch[\"n\"].append(images.size(0))\n",
        "    per_epoch[\"loss\"].append(sum(per_batch[\"loss\"])/sum(per_batch[\"n\"]))\n",
        "    per_epoch[\"acc\"].append(sum(per_batch[\"corr\"])/sum(per_batch[\"n\"]))\n",
        "    for images, labels in testloader :\n",
        "        outputs = net(images.to(device))\n",
        "        loss = l(outputs, labels.to(device))\n",
        "        per_batch[\"tloss\"].append(loss.item()*images.size(0))\n",
        "        per_batch[\"tcorr\"].append(sum(th.max(outputs,1)[1].cpu()==labels))\n",
        "        per_batch[\"tn\"].append(images.size(0))\n",
        "    per_epoch[\"tloss\"].append(sum(per_batch[\"tloss\"])/sum(per_batch[\"tn\"]))\n",
        "    per_epoch[\"tacc\"].append(sum(per_batch[\"tcorr\"])/sum(per_batch[\"tn\"]))\n",
        "    print(f'epoch {e:03d} : train loss {per_epoch[\"loss\"][-1]:.3f} acc {per_epoch[\"acc\"][-1]:.3f} test loss {per_epoch[\"tloss\"][-1]:.3f} acc {per_epoch[\"tacc\"][-1]:.3f}')\n",
        "    # early stopping: if we are at the best epoch (= epoch with lowest loss), save the weights\n",
        "    last_save += 1; e += 1\n",
        "    if per_epoch[\"tloss\"][-1] == min(per_epoch[\"tloss\"]):\n",
        "        print(\"  saving network\")\n",
        "        th.save(net.state_dict(), 'fnet_weights.pt')\n",
        "        last_save = 0\n",
        "print(\"done training.\")\n",
        "# reload the best weights\n",
        "net.load_state_dict(th.load('fnet_weights.pt'))\n",
        "# Make plots of the training/testing losses\n",
        "plt.plot(per_epoch[\"loss\"], label=\"train\")\n",
        "plt.plot(per_epoch[\"tloss\"], label=\"test\")\n",
        "plt.legend(loc=\"upper right\")"
      ],
      "execution_count": 22,
      "outputs": [
        {
          "output_type": "stream",
          "text": [
            "epoch 000 : train loss 3.997 acc 0.098 test loss 3.771 acc 0.137\n",
            "  saving network\n",
            "epoch 001 : train loss 3.703 acc 0.151 test loss 3.655 acc 0.158\n",
            "  saving network\n",
            "epoch 002 : train loss 3.605 acc 0.170 test loss 3.583 acc 0.174\n",
            "  saving network\n",
            "epoch 003 : train loss 3.543 acc 0.180 test loss 3.546 acc 0.179\n",
            "  saving network\n",
            "epoch 004 : train loss 3.501 acc 0.188 test loss 3.523 acc 0.183\n",
            "  saving network\n",
            "epoch 005 : train loss 3.464 acc 0.194 test loss 3.496 acc 0.187\n",
            "  saving network\n",
            "epoch 006 : train loss 3.425 acc 0.201 test loss 3.463 acc 0.193\n",
            "  saving network\n",
            "epoch 007 : train loss 3.382 acc 0.207 test loss 3.435 acc 0.200\n",
            "  saving network\n",
            "epoch 008 : train loss 3.341 acc 0.214 test loss 3.409 acc 0.203\n",
            "  saving network\n",
            "epoch 009 : train loss 3.298 acc 0.221 test loss 3.380 acc 0.209\n",
            "  saving network\n",
            "epoch 010 : train loss 3.250 acc 0.230 test loss 3.337 acc 0.217\n",
            "  saving network\n",
            "epoch 011 : train loss 3.199 acc 0.238 test loss 3.298 acc 0.224\n",
            "  saving network\n",
            "epoch 012 : train loss 3.153 acc 0.246 test loss 3.262 acc 0.231\n",
            "  saving network\n",
            "epoch 013 : train loss 3.113 acc 0.253 test loss 3.231 acc 0.237\n",
            "  saving network\n",
            "epoch 014 : train loss 3.080 acc 0.259 test loss 3.207 acc 0.241\n",
            "  saving network\n",
            "epoch 015 : train loss 3.050 acc 0.265 test loss 3.187 acc 0.243\n",
            "  saving network\n",
            "epoch 016 : train loss 3.024 acc 0.270 test loss 3.171 acc 0.246\n",
            "  saving network\n",
            "epoch 017 : train loss 3.001 acc 0.275 test loss 3.157 acc 0.249\n",
            "  saving network\n",
            "epoch 018 : train loss 2.979 acc 0.280 test loss 3.144 acc 0.251\n",
            "  saving network\n",
            "epoch 019 : train loss 2.959 acc 0.283 test loss 3.133 acc 0.253\n",
            "  saving network\n",
            "epoch 020 : train loss 2.940 acc 0.287 test loss 3.123 acc 0.255\n",
            "  saving network\n",
            "epoch 021 : train loss 2.923 acc 0.290 test loss 3.114 acc 0.256\n",
            "  saving network\n",
            "epoch 022 : train loss 2.906 acc 0.293 test loss 3.105 acc 0.258\n",
            "  saving network\n",
            "epoch 023 : train loss 2.890 acc 0.296 test loss 3.096 acc 0.260\n",
            "  saving network\n",
            "epoch 024 : train loss 2.875 acc 0.299 test loss 3.088 acc 0.261\n",
            "  saving network\n",
            "epoch 025 : train loss 2.860 acc 0.302 test loss 3.079 acc 0.262\n",
            "  saving network\n",
            "epoch 026 : train loss 2.846 acc 0.305 test loss 3.071 acc 0.265\n",
            "  saving network\n",
            "epoch 027 : train loss 2.832 acc 0.308 test loss 3.063 acc 0.266\n",
            "  saving network\n",
            "epoch 028 : train loss 2.818 acc 0.311 test loss 3.055 acc 0.269\n",
            "  saving network\n",
            "epoch 029 : train loss 2.804 acc 0.313 test loss 3.047 acc 0.273\n",
            "  saving network\n",
            "epoch 030 : train loss 2.791 acc 0.316 test loss 3.040 acc 0.274\n",
            "  saving network\n",
            "epoch 031 : train loss 2.778 acc 0.319 test loss 3.033 acc 0.276\n",
            "  saving network\n",
            "epoch 032 : train loss 2.766 acc 0.321 test loss 3.026 acc 0.276\n",
            "  saving network\n",
            "epoch 033 : train loss 2.754 acc 0.324 test loss 3.020 acc 0.278\n",
            "  saving network\n",
            "epoch 034 : train loss 2.743 acc 0.327 test loss 3.014 acc 0.279\n",
            "  saving network\n",
            "epoch 035 : train loss 2.732 acc 0.328 test loss 3.008 acc 0.279\n",
            "  saving network\n",
            "epoch 036 : train loss 2.722 acc 0.331 test loss 3.003 acc 0.279\n",
            "  saving network\n",
            "epoch 037 : train loss 2.712 acc 0.333 test loss 2.998 acc 0.281\n",
            "  saving network\n",
            "epoch 038 : train loss 2.703 acc 0.335 test loss 2.993 acc 0.282\n",
            "  saving network\n",
            "epoch 039 : train loss 2.694 acc 0.336 test loss 2.989 acc 0.283\n",
            "  saving network\n",
            "epoch 040 : train loss 2.684 acc 0.338 test loss 2.984 acc 0.283\n",
            "  saving network\n",
            "epoch 041 : train loss 2.676 acc 0.339 test loss 2.980 acc 0.285\n",
            "  saving network\n",
            "epoch 042 : train loss 2.667 acc 0.341 test loss 2.976 acc 0.285\n",
            "  saving network\n",
            "epoch 043 : train loss 2.658 acc 0.343 test loss 2.971 acc 0.287\n",
            "  saving network\n",
            "epoch 044 : train loss 2.650 acc 0.345 test loss 2.967 acc 0.289\n",
            "  saving network\n",
            "epoch 045 : train loss 2.641 acc 0.347 test loss 2.964 acc 0.291\n",
            "  saving network\n",
            "epoch 046 : train loss 2.633 acc 0.348 test loss 2.960 acc 0.291\n",
            "  saving network\n",
            "epoch 047 : train loss 2.626 acc 0.348 test loss 2.957 acc 0.293\n",
            "  saving network\n",
            "epoch 048 : train loss 2.618 acc 0.350 test loss 2.954 acc 0.294\n",
            "  saving network\n",
            "epoch 049 : train loss 2.611 acc 0.351 test loss 2.951 acc 0.295\n",
            "  saving network\n",
            "epoch 050 : train loss 2.604 acc 0.352 test loss 2.949 acc 0.295\n",
            "  saving network\n",
            "epoch 051 : train loss 2.597 acc 0.354 test loss 2.947 acc 0.294\n",
            "  saving network\n",
            "epoch 052 : train loss 2.591 acc 0.355 test loss 2.945 acc 0.294\n",
            "  saving network\n",
            "epoch 053 : train loss 2.584 acc 0.356 test loss 2.943 acc 0.294\n",
            "  saving network\n",
            "epoch 054 : train loss 2.578 acc 0.358 test loss 2.942 acc 0.294\n",
            "  saving network\n",
            "epoch 055 : train loss 2.572 acc 0.360 test loss 2.941 acc 0.295\n",
            "  saving network\n",
            "epoch 056 : train loss 2.567 acc 0.361 test loss 2.940 acc 0.295\n",
            "  saving network\n",
            "epoch 057 : train loss 2.561 acc 0.363 test loss 2.939 acc 0.295\n",
            "  saving network\n",
            "epoch 058 : train loss 2.556 acc 0.364 test loss 2.938 acc 0.295\n",
            "  saving network\n",
            "epoch 059 : train loss 2.551 acc 0.365 test loss 2.938 acc 0.296\n",
            "  saving network\n",
            "epoch 060 : train loss 2.546 acc 0.366 test loss 2.937 acc 0.296\n",
            "  saving network\n",
            "epoch 061 : train loss 2.541 acc 0.367 test loss 2.937 acc 0.297\n",
            "  saving network\n",
            "epoch 062 : train loss 2.536 acc 0.368 test loss 2.937 acc 0.297\n",
            "  saving network\n",
            "epoch 063 : train loss 2.531 acc 0.370 test loss 2.937 acc 0.297\n",
            "epoch 064 : train loss 2.527 acc 0.370 test loss 2.937 acc 0.296\n",
            "epoch 065 : train loss 2.523 acc 0.371 test loss 2.937 acc 0.296\n",
            "epoch 066 : train loss 2.518 acc 0.371 test loss 2.938 acc 0.296\n",
            "epoch 067 : train loss 2.514 acc 0.373 test loss 2.938 acc 0.296\n",
            "epoch 068 : train loss 2.510 acc 0.373 test loss 2.938 acc 0.296\n",
            "epoch 069 : train loss 2.506 acc 0.374 test loss 2.938 acc 0.296\n",
            "epoch 070 : train loss 2.502 acc 0.375 test loss 2.939 acc 0.297\n",
            "epoch 071 : train loss 2.499 acc 0.375 test loss 2.939 acc 0.296\n",
            "epoch 072 : train loss 2.495 acc 0.376 test loss 2.940 acc 0.296\n",
            "epoch 073 : train loss 2.491 acc 0.376 test loss 2.940 acc 0.296\n",
            "epoch 074 : train loss 2.488 acc 0.377 test loss 2.940 acc 0.297\n",
            "epoch 075 : train loss 2.484 acc 0.378 test loss 2.941 acc 0.298\n",
            "epoch 076 : train loss 2.481 acc 0.379 test loss 2.941 acc 0.299\n",
            "epoch 077 : train loss 2.478 acc 0.380 test loss 2.942 acc 0.300\n",
            "epoch 078 : train loss 2.474 acc 0.381 test loss 2.942 acc 0.299\n",
            "epoch 079 : train loss 2.471 acc 0.381 test loss 2.943 acc 0.299\n",
            "epoch 080 : train loss 2.468 acc 0.382 test loss 2.943 acc 0.299\n",
            "epoch 081 : train loss 2.465 acc 0.383 test loss 2.944 acc 0.299\n",
            "epoch 082 : train loss 2.462 acc 0.383 test loss 2.944 acc 0.300\n",
            "done training.\n"
          ],
          "name": "stdout"
        },
        {
          "output_type": "execute_result",
          "data": {
            "text/plain": [
              "<matplotlib.legend.Legend at 0x7f6449961110>"
            ]
          },
          "metadata": {
            "tags": []
          },
          "execution_count": 22
        },
        {
          "output_type": "display_data",
          "data": {
            "image/png": "[encoded data removed]",
            "text/plain": [
              "<Figure size 432x288 with 1 Axes>"
            ]
          },
          "metadata": {
            "tags": [],
            "needs_background": "light"
          }
        }
      ]
    },
    {
      "cell_type": "markdown",
      "metadata": {
        "id": "SHOvGikERcUC"
      },
      "source": [
        "Draw the loss for training and the loss for testing. Do you see the\n",
        "training loss keep going down and the testing loss at some point\n",
        "rising above the testing curve?"
      ]
    },
    {
      "cell_type": "code",
      "metadata": {
        "id": "vxhdmM7vRcUC",
        "colab": {
          "base_uri": "https://localhost:8080/",
          "height": 232
        },
        "outputId": "3f899f22-2964-40a3-9d15-302e7389a9e5"
      },
      "source": [
        "\n",
        "net = Net().to(device)\n",
        "opt = th.optim.Adam(net.parameters())\n",
        "l = th.nn.CrossEntropyLoss()\n",
        "per_epoch = defaultdict(lambda:[])\n",
        "last_save = 0\n",
        "e = 0\n",
        "\n",
        "while last_save < 20:\n",
        "    per_batch = defaultdict(lambda:[])\n",
        "    i = 0\n",
        "    for images, labels in trainloader :\n",
        "      if i == 5 :\n",
        "        break\n",
        "        opt.zero_grad()\n",
        "        outputs = net(images.to(device))\n",
        "        loss = l(outputs, labels.to(device))\n",
        "        loss.backward()\n",
        "        opt.step()\n",
        "        per_batch[\"loss\"].append(loss.item()*images.size(0))\n",
        "        per_batch[\"corr\"].append(sum(th.max(outputs,1)[1].cpu()==labels))\n",
        "        per_batch[\"n\"].append(images.size(0))\n",
        "        i += 1\n",
        "        \n",
        "\n",
        "    per_epoch[\"loss\"].append(sum(per_batch[\"loss\"])/sum(per_batch[\"n\"]))\n",
        "    per_epoch[\"acc\"].append(sum(per_batch[\"corr\"])/sum(per_batch[\"n\"]))\n",
        "    \n",
        "\n",
        "    for images, labels in testloader :\n",
        "        outputs = net(images.to(device))\n",
        "        loss = l(outputs, labels.to(device))\n",
        "        per_batch[\"tloss\"].append(loss.item()*images.size(0))\n",
        "        per_batch[\"tcorr\"].append(sum(th.max(outputs,1)[1].cpu()==labels))\n",
        "        per_batch[\"tn\"].append(images.size(0))\n",
        "\n",
        "    per_epoch[\"tloss\"].append(sum(per_batch[\"tloss\"])/sum(per_batch[\"tn\"]))\n",
        "    per_epoch[\"tacc\"].append(sum(per_batch[\"tcorr\"])/sum(per_batch[\"tn\"]))\n",
        "    print(f'epoch {e:03d} : train loss {per_epoch[\"loss\"][-1]:.3f} acc {per_epoch[\"acc\"][-1]:.3f} test loss {per_epoch[\"tloss\"][-1]:.3f} acc {per_epoch[\"tacc\"][-1]:.3f}')\n",
        "    # early stopping: if we are at the best epoch (= epoch with lowest loss), save the weights\n",
        "    last_save += 1; e += 1 ; \n",
        "\n",
        "    if per_epoch[\"tloss\"][-1] == min(per_epoch[\"tloss\"]):\n",
        "        print(\"  saving network\")\n",
        "        th.save(net.state_dict(), 'fnet_weights.pt')\n",
        "        last_save = 0\n",
        "\n",
        "print(\"done training.\")\n",
        "# reload the best weights\n",
        "net.load_state_dict(th.load('fnet_weights.pt'))\n",
        "# Make plots of the training/testing losses\n",
        "plt.plot(per_epoch[\"loss\"], label=\"train\")\n",
        "plt.plot(per_epoch[\"tloss\"], label=\"test\")\n",
        "plt.legend(loc=\"upper right\")"
      ],
      "execution_count": 21,
      "outputs": [
        {
          "output_type": "error",
          "ename": "ZeroDivisionError",
          "evalue": "ignored",
          "traceback": [
            "\u001b[0;31m---------------------------------------------------------------------------\u001b[0m",
            "\u001b[0;31mZeroDivisionError\u001b[0m                         Traceback (most recent call last)",
            "\u001b[0;32m<ipython-input-21-7de2c0b5a95d>\u001b[0m in \u001b[0;36m<module>\u001b[0;34m()\u001b[0m\n\u001b[1;32m     24\u001b[0m \u001b[0;34m\u001b[0m\u001b[0m\n\u001b[1;32m     25\u001b[0m \u001b[0;34m\u001b[0m\u001b[0m\n\u001b[0;32m---> 26\u001b[0;31m     \u001b[0mper_epoch\u001b[0m\u001b[0;34m[\u001b[0m\u001b[0;34m\"loss\"\u001b[0m\u001b[0;34m]\u001b[0m\u001b[0;34m.\u001b[0m\u001b[0mappend\u001b[0m\u001b[0;34m(\u001b[0m\u001b[0msum\u001b[0m\u001b[0;34m(\u001b[0m\u001b[0mper_batch\u001b[0m\u001b[0;34m[\u001b[0m\u001b[0;34m\"loss\"\u001b[0m\u001b[0;34m]\u001b[0m\u001b[0;34m)\u001b[0m\u001b[0;34m/\u001b[0m\u001b[0msum\u001b[0m\u001b[0;34m(\u001b[0m\u001b[0mper_batch\u001b[0m\u001b[0;34m[\u001b[0m\u001b[0;34m\"n\"\u001b[0m\u001b[0;34m]\u001b[0m\u001b[0;34m)\u001b[0m\u001b[0;34m)\u001b[0m\u001b[0;34m\u001b[0m\u001b[0;34m\u001b[0m\u001b[0m\n\u001b[0m\u001b[1;32m     27\u001b[0m     \u001b[0mper_epoch\u001b[0m\u001b[0;34m[\u001b[0m\u001b[0;34m\"acc\"\u001b[0m\u001b[0;34m]\u001b[0m\u001b[0;34m.\u001b[0m\u001b[0mappend\u001b[0m\u001b[0;34m(\u001b[0m\u001b[0msum\u001b[0m\u001b[0;34m(\u001b[0m\u001b[0mper_batch\u001b[0m\u001b[0;34m[\u001b[0m\u001b[0;34m\"corr\"\u001b[0m\u001b[0;34m]\u001b[0m\u001b[0;34m)\u001b[0m\u001b[0;34m/\u001b[0m\u001b[0msum\u001b[0m\u001b[0;34m(\u001b[0m\u001b[0mper_batch\u001b[0m\u001b[0;34m[\u001b[0m\u001b[0;34m\"n\"\u001b[0m\u001b[0;34m]\u001b[0m\u001b[0;34m)\u001b[0m\u001b[0;34m)\u001b[0m\u001b[0;34m\u001b[0m\u001b[0;34m\u001b[0m\u001b[0m\n\u001b[1;32m     28\u001b[0m \u001b[0;34m\u001b[0m\u001b[0m\n",
            "\u001b[0;31mZeroDivisionError\u001b[0m: division by zero"
          ]
        }
      ]
    },
    {
      "cell_type": "markdown",
      "metadata": {
        "id": "8Ws9cV1HRcUC"
      },
      "source": [
        "Rewrite the training loop, and instead of running over the whole\n",
        "dataset, only run the first 5 minibatches. Run many more epochs. Redraw the curves\n",
        "for training and testing loss. You should find that the training loss tends to 0, while the testing loss shows the nice convex pattern shown in the lecture."
      ]
    },
    {
      "cell_type": "code",
      "metadata": {
        "id": "YEpmtpn_RcUC"
      },
      "source": [
        ""
      ],
      "execution_count": null,
      "outputs": []
    },
    {
      "cell_type": "markdown",
      "metadata": {
        "id": "uX9kHlu-RcUC"
      },
      "source": [
        "One final challenge. Create a large network (at least a million parameters). Run training for a couple hundred epochs, and check the testing and training losses. \n",
        "\n",
        "An aside, you may find the double descent curve, where the testing loss starts off going down, goes up as expected from bias-variance, but then starts to go down again. Why this happens is still unknown, but it is commonly seen training neural networks and possibly related to the mysterious generalizability of these networks with millions of parameters. \n",
        "\n",
        "https://openai.com/blog/deep-double-descent/\n",
        "\n",
        "(Note: this exact phenomena may be difficult to acheive without BatchNorm, which we will cover later, but try to train a large network to good accuracy for CIFAR100)"
      ]
    },
    {
      "cell_type": "code",
      "metadata": {
        "id": "qBM24GfQRcUC"
      },
      "source": [
        ""
      ],
      "execution_count": null,
      "outputs": []
    },
    {
      "cell_type": "code",
      "metadata": {
        "id": "pSWycF88RcUD"
      },
      "source": [
        ""
      ],
      "execution_count": null,
      "outputs": []
    }
  ]
}