{
  "nbformat": 4,
  "nbformat_minor": 0,
  "metadata": {
    "kernelspec": {
      "display_name": "Python 3",
      "language": "python",
      "name": "python3"
    },
    "language_info": {
      "codemirror_mode": {
        "name": "ipython",
        "version": 3
      },
      "file_extension": ".py",
      "mimetype": "text/x-python",
      "name": "python",
      "nbconvert_exporter": "python",
      "pygments_lexer": "ipython3",
      "version": "3.8.8"
    },
    "name": "06-training.ipynb",
    "colab": {
      "name": "20210414_copy.ipynb",
      "provenance": [],
      "include_colab_link": true
    },
    "accelerator": "GPU",
    "widgets": {
      "application/vnd.jupyter.widget-state+json": {
        "72d28fb796f04616b73c1ce03edbe0fe": {
          "model_module": "@jupyter-widgets/controls",
          "model_name": "HBoxModel",
          "state": {
            "_view_name": "HBoxView",
            "_dom_classes": [],
            "_model_name": "HBoxModel",
            "_view_module": "@jupyter-widgets/controls",
            "_model_module_version": "1.5.0",
            "_view_count": null,
            "_view_module_version": "1.5.0",
            "box_style": "",
            "layout": "IPY_MODEL_cc736318fdaa4a6d9d3c4ae04f723e42",
            "_model_module": "@jupyter-widgets/controls",
            "children": [
              "IPY_MODEL_f7102287944e4f28b7a4e6699558b58b",
              "IPY_MODEL_da96a1fd054e41c4ac87e507551c726a"
            ]
          }
        },
        "cc736318fdaa4a6d9d3c4ae04f723e42": {
          "model_module": "@jupyter-widgets/base",
          "model_name": "LayoutModel",
          "state": {
            "_view_name": "LayoutView",
            "grid_template_rows": null,
            "right": null,
            "justify_content": null,
            "_view_module": "@jupyter-widgets/base",
            "overflow": null,
            "_model_module_version": "1.2.0",
            "_view_count": null,
            "flex_flow": null,
            "width": null,
            "min_width": null,
            "border": null,
            "align_items": null,
            "bottom": null,
            "_model_module": "@jupyter-widgets/base",
            "top": null,
            "grid_column": null,
            "overflow_y": null,
            "overflow_x": null,
            "grid_auto_flow": null,
            "grid_area": null,
            "grid_template_columns": null,
            "flex": null,
            "_model_name": "LayoutModel",
            "justify_items": null,
            "grid_row": null,
            "max_height": null,
            "align_content": null,
            "visibility": null,
            "align_self": null,
            "height": null,
            "min_height": null,
            "padding": null,
            "grid_auto_rows": null,
            "grid_gap": null,
            "max_width": null,
            "order": null,
            "_view_module_version": "1.2.0",
            "grid_template_areas": null,
            "object_position": null,
            "object_fit": null,
            "grid_auto_columns": null,
            "margin": null,
            "display": null,
            "left": null
          }
        },
        "f7102287944e4f28b7a4e6699558b58b": {
          "model_module": "@jupyter-widgets/controls",
          "model_name": "FloatProgressModel",
          "state": {
            "_view_name": "ProgressView",
            "style": "IPY_MODEL_ef90d80040274bfb87a8dd3e02c7fb7d",
            "_dom_classes": [],
            "description": "",
            "_model_name": "FloatProgressModel",
            "bar_style": "success",
            "max": 26421880,
            "_view_module": "@jupyter-widgets/controls",
            "_model_module_version": "1.5.0",
            "value": 26421880,
            "_view_count": null,
            "_view_module_version": "1.5.0",
            "orientation": "horizontal",
            "min": 0,
            "description_tooltip": null,
            "_model_module": "@jupyter-widgets/controls",
            "layout": "IPY_MODEL_9fa670280bf64035b57f6b2a9c470e5c"
          }
        },
        "da96a1fd054e41c4ac87e507551c726a": {
          "model_module": "@jupyter-widgets/controls",
          "model_name": "HTMLModel",
          "state": {
            "_view_name": "HTMLView",
            "style": "IPY_MODEL_a6b7f899c6244ac0836992efa33ef051",
            "_dom_classes": [],
            "description": "",
            "_model_name": "HTMLModel",
            "placeholder": "​",
            "_view_module": "@jupyter-widgets/controls",
            "_model_module_version": "1.5.0",
            "value": " 26422272/? [00:01&lt;00:00, 19075114.88it/s]",
            "_view_count": null,
            "_view_module_version": "1.5.0",
            "description_tooltip": null,
            "_model_module": "@jupyter-widgets/controls",
            "layout": "IPY_MODEL_adeb8549264845a49b56d1dafb040720"
          }
        },
        "ef90d80040274bfb87a8dd3e02c7fb7d": {
          "model_module": "@jupyter-widgets/controls",
          "model_name": "ProgressStyleModel",
          "state": {
            "_view_name": "StyleView",
            "_model_name": "ProgressStyleModel",
            "description_width": "initial",
            "_view_module": "@jupyter-widgets/base",
            "_model_module_version": "1.5.0",
            "_view_count": null,
            "_view_module_version": "1.2.0",
            "bar_color": null,
            "_model_module": "@jupyter-widgets/controls"
          }
        },
        "9fa670280bf64035b57f6b2a9c470e5c": {
          "model_module": "@jupyter-widgets/base",
          "model_name": "LayoutModel",
          "state": {
            "_view_name": "LayoutView",
            "grid_template_rows": null,
            "right": null,
            "justify_content": null,
            "_view_module": "@jupyter-widgets/base",
            "overflow": null,
            "_model_module_version": "1.2.0",
            "_view_count": null,
            "flex_flow": null,
            "width": null,
            "min_width": null,
            "border": null,
            "align_items": null,
            "bottom": null,
            "_model_module": "@jupyter-widgets/base",
            "top": null,
            "grid_column": null,
            "overflow_y": null,
            "overflow_x": null,
            "grid_auto_flow": null,
            "grid_area": null,
            "grid_template_columns": null,
            "flex": null,
            "_model_name": "LayoutModel",
            "justify_items": null,
            "grid_row": null,
            "max_height": null,
            "align_content": null,
            "visibility": null,
            "align_self": null,
            "height": null,
            "min_height": null,
            "padding": null,
            "grid_auto_rows": null,
            "grid_gap": null,
            "max_width": null,
            "order": null,
            "_view_module_version": "1.2.0",
            "grid_template_areas": null,
            "object_position": null,
            "object_fit": null,
            "grid_auto_columns": null,
            "margin": null,
            "display": null,
            "left": null
          }
        },
        "a6b7f899c6244ac0836992efa33ef051": {
          "model_module": "@jupyter-widgets/controls",
          "model_name": "DescriptionStyleModel",
          "state": {
            "_view_name": "StyleView",
            "_model_name": "DescriptionStyleModel",
            "description_width": "",
            "_view_module": "@jupyter-widgets/base",
            "_model_module_version": "1.5.0",
            "_view_count": null,
            "_view_module_version": "1.2.0",
            "_model_module": "@jupyter-widgets/controls"
          }
        },
        "adeb8549264845a49b56d1dafb040720": {
          "model_module": "@jupyter-widgets/base",
          "model_name": "LayoutModel",
          "state": {
            "_view_name": "LayoutView",
            "grid_template_rows": null,
            "right": null,
            "justify_content": null,
            "_view_module": "@jupyter-widgets/base",
            "overflow": null,
            "_model_module_version": "1.2.0",
            "_view_count": null,
            "flex_flow": null,
            "width": null,
            "min_width": null,
            "border": null,
            "align_items": null,
            "bottom": null,
            "_model_module": "@jupyter-widgets/base",
            "top": null,
            "grid_column": null,
            "overflow_y": null,
            "overflow_x": null,
            "grid_auto_flow": null,
            "grid_area": null,
            "grid_template_columns": null,
            "flex": null,
            "_model_name": "LayoutModel",
            "justify_items": null,
            "grid_row": null,
            "max_height": null,
            "align_content": null,
            "visibility": null,
            "align_self": null,
            "height": null,
            "min_height": null,
            "padding": null,
            "grid_auto_rows": null,
            "grid_gap": null,
            "max_width": null,
            "order": null,
            "_view_module_version": "1.2.0",
            "grid_template_areas": null,
            "object_position": null,
            "object_fit": null,
            "grid_auto_columns": null,
            "margin": null,
            "display": null,
            "left": null
          }
        },
        "57f28d823ccc43eeaa27f2586314d986": {
          "model_module": "@jupyter-widgets/controls",
          "model_name": "HBoxModel",
          "state": {
            "_view_name": "HBoxView",
            "_dom_classes": [],
            "_model_name": "HBoxModel",
            "_view_module": "@jupyter-widgets/controls",
            "_model_module_version": "1.5.0",
            "_view_count": null,
            "_view_module_version": "1.5.0",
            "box_style": "",
            "layout": "IPY_MODEL_f09a992c4c0b4ab6aa334886e4a61bf9",
            "_model_module": "@jupyter-widgets/controls",
            "children": [
              "IPY_MODEL_406c4ff48a4f4ec187ea0b88b06b6abc",
              "IPY_MODEL_01a1754628e6485bb88a7bba6ae3f47a"
            ]
          }
        },
        "f09a992c4c0b4ab6aa334886e4a61bf9": {
          "model_module": "@jupyter-widgets/base",
          "model_name": "LayoutModel",
          "state": {
            "_view_name": "LayoutView",
            "grid_template_rows": null,
            "right": null,
            "justify_content": null,
            "_view_module": "@jupyter-widgets/base",
            "overflow": null,
            "_model_module_version": "1.2.0",
            "_view_count": null,
            "flex_flow": null,
            "width": null,
            "min_width": null,
            "border": null,
            "align_items": null,
            "bottom": null,
            "_model_module": "@jupyter-widgets/base",
            "top": null,
            "grid_column": null,
            "overflow_y": null,
            "overflow_x": null,
            "grid_auto_flow": null,
            "grid_area": null,
            "grid_template_columns": null,
            "flex": null,
            "_model_name": "LayoutModel",
            "justify_items": null,
            "grid_row": null,
            "max_height": null,
            "align_content": null,
            "visibility": null,
            "align_self": null,
            "height": null,
            "min_height": null,
            "padding": null,
            "grid_auto_rows": null,
            "grid_gap": null,
            "max_width": null,
            "order": null,
            "_view_module_version": "1.2.0",
            "grid_template_areas": null,
            "object_position": null,
            "object_fit": null,
            "grid_auto_columns": null,
            "margin": null,
            "display": null,
            "left": null
          }
        },
        "406c4ff48a4f4ec187ea0b88b06b6abc": {
          "model_module": "@jupyter-widgets/controls",
          "model_name": "FloatProgressModel",
          "state": {
            "_view_name": "ProgressView",
            "style": "IPY_MODEL_e924b920464f471587c154d3d04f8395",
            "_dom_classes": [],
            "description": "",
            "_model_name": "FloatProgressModel",
            "bar_style": "success",
            "max": 29515,
            "_view_module": "@jupyter-widgets/controls",
            "_model_module_version": "1.5.0",
            "value": 29515,
            "_view_count": null,
            "_view_module_version": "1.5.0",
            "orientation": "horizontal",
            "min": 0,
            "description_tooltip": null,
            "_model_module": "@jupyter-widgets/controls",
            "layout": "IPY_MODEL_f41e7b3a81524667b977dd2afe8d5dea"
          }
        },
        "01a1754628e6485bb88a7bba6ae3f47a": {
          "model_module": "@jupyter-widgets/controls",
          "model_name": "HTMLModel",
          "state": {
            "_view_name": "HTMLView",
            "style": "IPY_MODEL_e85df4571f0e40b48fd0c7453d1d4b87",
            "_dom_classes": [],
            "description": "",
            "_model_name": "HTMLModel",
            "placeholder": "​",
            "_view_module": "@jupyter-widgets/controls",
            "_model_module_version": "1.5.0",
            "value": " 29696/? [00:00&lt;00:00, 33444.55it/s]",
            "_view_count": null,
            "_view_module_version": "1.5.0",
            "description_tooltip": null,
            "_model_module": "@jupyter-widgets/controls",
            "layout": "IPY_MODEL_dcf0736372754e5abd17ca2eca5e19a0"
          }
        },
        "e924b920464f471587c154d3d04f8395": {
          "model_module": "@jupyter-widgets/controls",
          "model_name": "ProgressStyleModel",
          "state": {
            "_view_name": "StyleView",
            "_model_name": "ProgressStyleModel",
            "description_width": "initial",
            "_view_module": "@jupyter-widgets/base",
            "_model_module_version": "1.5.0",
            "_view_count": null,
            "_view_module_version": "1.2.0",
            "bar_color": null,
            "_model_module": "@jupyter-widgets/controls"
          }
        },
        "f41e7b3a81524667b977dd2afe8d5dea": {
          "model_module": "@jupyter-widgets/base",
          "model_name": "LayoutModel",
          "state": {
            "_view_name": "LayoutView",
            "grid_template_rows": null,
            "right": null,
            "justify_content": null,
            "_view_module": "@jupyter-widgets/base",
            "overflow": null,
            "_model_module_version": "1.2.0",
            "_view_count": null,
            "flex_flow": null,
            "width": null,
            "min_width": null,
            "border": null,
            "align_items": null,
            "bottom": null,
            "_model_module": "@jupyter-widgets/base",
            "top": null,
            "grid_column": null,
            "overflow_y": null,
            "overflow_x": null,
            "grid_auto_flow": null,
            "grid_area": null,
            "grid_template_columns": null,
            "flex": null,
            "_model_name": "LayoutModel",
            "justify_items": null,
            "grid_row": null,
            "max_height": null,
            "align_content": null,
            "visibility": null,
            "align_self": null,
            "height": null,
            "min_height": null,
            "padding": null,
            "grid_auto_rows": null,
            "grid_gap": null,
            "max_width": null,
            "order": null,
            "_view_module_version": "1.2.0",
            "grid_template_areas": null,
            "object_position": null,
            "object_fit": null,
            "grid_auto_columns": null,
            "margin": null,
            "display": null,
            "left": null
          }
        },
        "e85df4571f0e40b48fd0c7453d1d4b87": {
          "model_module": "@jupyter-widgets/controls",
          "model_name": "DescriptionStyleModel",
          "state": {
            "_view_name": "StyleView",
            "_model_name": "DescriptionStyleModel",
            "description_width": "",
            "_view_module": "@jupyter-widgets/base",
            "_model_module_version": "1.5.0",
            "_view_count": null,
            "_view_module_version": "1.2.0",
            "_model_module": "@jupyter-widgets/controls"
          }
        },
        "dcf0736372754e5abd17ca2eca5e19a0": {
          "model_module": "@jupyter-widgets/base",
          "model_name": "LayoutModel",
          "state": {
            "_view_name": "LayoutView",
            "grid_template_rows": null,
            "right": null,
            "justify_content": null,
            "_view_module": "@jupyter-widgets/base",
            "overflow": null,
            "_model_module_version": "1.2.0",
            "_view_count": null,
            "flex_flow": null,
            "width": null,
            "min_width": null,
            "border": null,
            "align_items": null,
            "bottom": null,
            "_model_module": "@jupyter-widgets/base",
            "top": null,
            "grid_column": null,
            "overflow_y": null,
            "overflow_x": null,
            "grid_auto_flow": null,
            "grid_area": null,
            "grid_template_columns": null,
            "flex": null,
            "_model_name": "LayoutModel",
            "justify_items": null,
            "grid_row": null,
            "max_height": null,
            "align_content": null,
            "visibility": null,
            "align_self": null,
            "height": null,
            "min_height": null,
            "padding": null,
            "grid_auto_rows": null,
            "grid_gap": null,
            "max_width": null,
            "order": null,
            "_view_module_version": "1.2.0",
            "grid_template_areas": null,
            "object_position": null,
            "object_fit": null,
            "grid_auto_columns": null,
            "margin": null,
            "display": null,
            "left": null
          }
        },
        "72ab1c0bfbb8420fbcaecc2103cae2b4": {
          "model_module": "@jupyter-widgets/controls",
          "model_name": "HBoxModel",
          "state": {
            "_view_name": "HBoxView",
            "_dom_classes": [],
            "_model_name": "HBoxModel",
            "_view_module": "@jupyter-widgets/controls",
            "_model_module_version": "1.5.0",
            "_view_count": null,
            "_view_module_version": "1.5.0",
            "box_style": "",
            "layout": "IPY_MODEL_c909a13b92254939a90fea3701e2f5b0",
            "_model_module": "@jupyter-widgets/controls",
            "children": [
              "IPY_MODEL_d58325842cec40e289a9f87b6a886168",
              "IPY_MODEL_9e5d605069384b5987d1c80099f6a21c"
            ]
          }
        },
        "c909a13b92254939a90fea3701e2f5b0": {
          "model_module": "@jupyter-widgets/base",
          "model_name": "LayoutModel",
          "state": {
            "_view_name": "LayoutView",
            "grid_template_rows": null,
            "right": null,
            "justify_content": null,
            "_view_module": "@jupyter-widgets/base",
            "overflow": null,
            "_model_module_version": "1.2.0",
            "_view_count": null,
            "flex_flow": null,
            "width": null,
            "min_width": null,
            "border": null,
            "align_items": null,
            "bottom": null,
            "_model_module": "@jupyter-widgets/base",
            "top": null,
            "grid_column": null,
            "overflow_y": null,
            "overflow_x": null,
            "grid_auto_flow": null,
            "grid_area": null,
            "grid_template_columns": null,
            "flex": null,
            "_model_name": "LayoutModel",
            "justify_items": null,
            "grid_row": null,
            "max_height": null,
            "align_content": null,
            "visibility": null,
            "align_self": null,
            "height": null,
            "min_height": null,
            "padding": null,
            "grid_auto_rows": null,
            "grid_gap": null,
            "max_width": null,
            "order": null,
            "_view_module_version": "1.2.0",
            "grid_template_areas": null,
            "object_position": null,
            "object_fit": null,
            "grid_auto_columns": null,
            "margin": null,
            "display": null,
            "left": null
          }
        },
        "d58325842cec40e289a9f87b6a886168": {
          "model_module": "@jupyter-widgets/controls",
          "model_name": "FloatProgressModel",
          "state": {
            "_view_name": "ProgressView",
            "style": "IPY_MODEL_79f7f26a3c634628bb4bce74b03760db",
            "_dom_classes": [],
            "description": "",
            "_model_name": "FloatProgressModel",
            "bar_style": "success",
            "max": 4422102,
            "_view_module": "@jupyter-widgets/controls",
            "_model_module_version": "1.5.0",
            "value": 4422102,
            "_view_count": null,
            "_view_module_version": "1.5.0",
            "orientation": "horizontal",
            "min": 0,
            "description_tooltip": null,
            "_model_module": "@jupyter-widgets/controls",
            "layout": "IPY_MODEL_8b8bfe266b464e59af5687424e1f8a87"
          }
        },
        "9e5d605069384b5987d1c80099f6a21c": {
          "model_module": "@jupyter-widgets/controls",
          "model_name": "HTMLModel",
          "state": {
            "_view_name": "HTMLView",
            "style": "IPY_MODEL_b21214dfaa3341bca578e086ed03c749",
            "_dom_classes": [],
            "description": "",
            "_model_name": "HTMLModel",
            "placeholder": "​",
            "_view_module": "@jupyter-widgets/controls",
            "_model_module_version": "1.5.0",
            "value": " 4422656/? [00:55&lt;00:00, 80304.81it/s]",
            "_view_count": null,
            "_view_module_version": "1.5.0",
            "description_tooltip": null,
            "_model_module": "@jupyter-widgets/controls",
            "layout": "IPY_MODEL_e0b58f419d0246fda690bbcb403d7f87"
          }
        },
        "79f7f26a3c634628bb4bce74b03760db": {
          "model_module": "@jupyter-widgets/controls",
          "model_name": "ProgressStyleModel",
          "state": {
            "_view_name": "StyleView",
            "_model_name": "ProgressStyleModel",
            "description_width": "initial",
            "_view_module": "@jupyter-widgets/base",
            "_model_module_version": "1.5.0",
            "_view_count": null,
            "_view_module_version": "1.2.0",
            "bar_color": null,
            "_model_module": "@jupyter-widgets/controls"
          }
        },
        "8b8bfe266b464e59af5687424e1f8a87": {
          "model_module": "@jupyter-widgets/base",
          "model_name": "LayoutModel",
          "state": {
            "_view_name": "LayoutView",
            "grid_template_rows": null,
            "right": null,
            "justify_content": null,
            "_view_module": "@jupyter-widgets/base",
            "overflow": null,
            "_model_module_version": "1.2.0",
            "_view_count": null,
            "flex_flow": null,
            "width": null,
            "min_width": null,
            "border": null,
            "align_items": null,
            "bottom": null,
            "_model_module": "@jupyter-widgets/base",
            "top": null,
            "grid_column": null,
            "overflow_y": null,
            "overflow_x": null,
            "grid_auto_flow": null,
            "grid_area": null,
            "grid_template_columns": null,
            "flex": null,
            "_model_name": "LayoutModel",
            "justify_items": null,
            "grid_row": null,
            "max_height": null,
            "align_content": null,
            "visibility": null,
            "align_self": null,
            "height": null,
            "min_height": null,
            "padding": null,
            "grid_auto_rows": null,
            "grid_gap": null,
            "max_width": null,
            "order": null,
            "_view_module_version": "1.2.0",
            "grid_template_areas": null,
            "object_position": null,
            "object_fit": null,
            "grid_auto_columns": null,
            "margin": null,
            "display": null,
            "left": null
          }
        },
        "b21214dfaa3341bca578e086ed03c749": {
          "model_module": "@jupyter-widgets/controls",
          "model_name": "DescriptionStyleModel",
          "state": {
            "_view_name": "StyleView",
            "_model_name": "DescriptionStyleModel",
            "description_width": "",
            "_view_module": "@jupyter-widgets/base",
            "_model_module_version": "1.5.0",
            "_view_count": null,
            "_view_module_version": "1.2.0",
            "_model_module": "@jupyter-widgets/controls"
          }
        },
        "e0b58f419d0246fda690bbcb403d7f87": {
          "model_module": "@jupyter-widgets/base",
          "model_name": "LayoutModel",
          "state": {
            "_view_name": "LayoutView",
            "grid_template_rows": null,
            "right": null,
            "justify_content": null,
            "_view_module": "@jupyter-widgets/base",
            "overflow": null,
            "_model_module_version": "1.2.0",
            "_view_count": null,
            "flex_flow": null,
            "width": null,
            "min_width": null,
            "border": null,
            "align_items": null,
            "bottom": null,
            "_model_module": "@jupyter-widgets/base",
            "top": null,
            "grid_column": null,
            "overflow_y": null,
            "overflow_x": null,
            "grid_auto_flow": null,
            "grid_area": null,
            "grid_template_columns": null,
            "flex": null,
            "_model_name": "LayoutModel",
            "justify_items": null,
            "grid_row": null,
            "max_height": null,
            "align_content": null,
            "visibility": null,
            "align_self": null,
            "height": null,
            "min_height": null,
            "padding": null,
            "grid_auto_rows": null,
            "grid_gap": null,
            "max_width": null,
            "order": null,
            "_view_module_version": "1.2.0",
            "grid_template_areas": null,
            "object_position": null,
            "object_fit": null,
            "grid_auto_columns": null,
            "margin": null,
            "display": null,
            "left": null
          }
        },
        "1350fdc88a074967b9625fe5fb54d5de": {
          "model_module": "@jupyter-widgets/controls",
          "model_name": "HBoxModel",
          "state": {
            "_view_name": "HBoxView",
            "_dom_classes": [],
            "_model_name": "HBoxModel",
            "_view_module": "@jupyter-widgets/controls",
            "_model_module_version": "1.5.0",
            "_view_count": null,
            "_view_module_version": "1.5.0",
            "box_style": "",
            "layout": "IPY_MODEL_2fe6d1c6f4ab4c8c956632363b622893",
            "_model_module": "@jupyter-widgets/controls",
            "children": [
              "IPY_MODEL_baa63745a6d34241b6a833444ca3955d",
              "IPY_MODEL_cd519c5cde5445df80ac02ef83bb8b7e"
            ]
          }
        },
        "2fe6d1c6f4ab4c8c956632363b622893": {
          "model_module": "@jupyter-widgets/base",
          "model_name": "LayoutModel",
          "state": {
            "_view_name": "LayoutView",
            "grid_template_rows": null,
            "right": null,
            "justify_content": null,
            "_view_module": "@jupyter-widgets/base",
            "overflow": null,
            "_model_module_version": "1.2.0",
            "_view_count": null,
            "flex_flow": null,
            "width": null,
            "min_width": null,
            "border": null,
            "align_items": null,
            "bottom": null,
            "_model_module": "@jupyter-widgets/base",
            "top": null,
            "grid_column": null,
            "overflow_y": null,
            "overflow_x": null,
            "grid_auto_flow": null,
            "grid_area": null,
            "grid_template_columns": null,
            "flex": null,
            "_model_name": "LayoutModel",
            "justify_items": null,
            "grid_row": null,
            "max_height": null,
            "align_content": null,
            "visibility": null,
            "align_self": null,
            "height": null,
            "min_height": null,
            "padding": null,
            "grid_auto_rows": null,
            "grid_gap": null,
            "max_width": null,
            "order": null,
            "_view_module_version": "1.2.0",
            "grid_template_areas": null,
            "object_position": null,
            "object_fit": null,
            "grid_auto_columns": null,
            "margin": null,
            "display": null,
            "left": null
          }
        },
        "baa63745a6d34241b6a833444ca3955d": {
          "model_module": "@jupyter-widgets/controls",
          "model_name": "FloatProgressModel",
          "state": {
            "_view_name": "ProgressView",
            "style": "IPY_MODEL_c103f32d743d43378bac4cf16c4341ac",
            "_dom_classes": [],
            "description": "",
            "_model_name": "FloatProgressModel",
            "bar_style": "success",
            "max": 5148,
            "_view_module": "@jupyter-widgets/controls",
            "_model_module_version": "1.5.0",
            "value": 5148,
            "_view_count": null,
            "_view_module_version": "1.5.0",
            "orientation": "horizontal",
            "min": 0,
            "description_tooltip": null,
            "_model_module": "@jupyter-widgets/controls",
            "layout": "IPY_MODEL_32faa8ca7eeb43c1b23a8c573f65d7fc"
          }
        },
        "cd519c5cde5445df80ac02ef83bb8b7e": {
          "model_module": "@jupyter-widgets/controls",
          "model_name": "HTMLModel",
          "state": {
            "_view_name": "HTMLView",
            "style": "IPY_MODEL_3ff857a6e06a483c877fa5f5e8e1c0a4",
            "_dom_classes": [],
            "description": "",
            "_model_name": "HTMLModel",
            "placeholder": "​",
            "_view_module": "@jupyter-widgets/controls",
            "_model_module_version": "1.5.0",
            "value": " 6144/? [00:11&lt;00:00, 540.28it/s]",
            "_view_count": null,
            "_view_module_version": "1.5.0",
            "description_tooltip": null,
            "_model_module": "@jupyter-widgets/controls",
            "layout": "IPY_MODEL_671d2043815b47a0bb66e365e92eb785"
          }
        },
        "c103f32d743d43378bac4cf16c4341ac": {
          "model_module": "@jupyter-widgets/controls",
          "model_name": "ProgressStyleModel",
          "state": {
            "_view_name": "StyleView",
            "_model_name": "ProgressStyleModel",
            "description_width": "initial",
            "_view_module": "@jupyter-widgets/base",
            "_model_module_version": "1.5.0",
            "_view_count": null,
            "_view_module_version": "1.2.0",
            "bar_color": null,
            "_model_module": "@jupyter-widgets/controls"
          }
        },
        "32faa8ca7eeb43c1b23a8c573f65d7fc": {
          "model_module": "@jupyter-widgets/base",
          "model_name": "LayoutModel",
          "state": {
            "_view_name": "LayoutView",
            "grid_template_rows": null,
            "right": null,
            "justify_content": null,
            "_view_module": "@jupyter-widgets/base",
            "overflow": null,
            "_model_module_version": "1.2.0",
            "_view_count": null,
            "flex_flow": null,
            "width": null,
            "min_width": null,
            "border": null,
            "align_items": null,
            "bottom": null,
            "_model_module": "@jupyter-widgets/base",
            "top": null,
            "grid_column": null,
            "overflow_y": null,
            "overflow_x": null,
            "grid_auto_flow": null,
            "grid_area": null,
            "grid_template_columns": null,
            "flex": null,
            "_model_name": "LayoutModel",
            "justify_items": null,
            "grid_row": null,
            "max_height": null,
            "align_content": null,
            "visibility": null,
            "align_self": null,
            "height": null,
            "min_height": null,
            "padding": null,
            "grid_auto_rows": null,
            "grid_gap": null,
            "max_width": null,
            "order": null,
            "_view_module_version": "1.2.0",
            "grid_template_areas": null,
            "object_position": null,
            "object_fit": null,
            "grid_auto_columns": null,
            "margin": null,
            "display": null,
            "left": null
          }
        },
        "3ff857a6e06a483c877fa5f5e8e1c0a4": {
          "model_module": "@jupyter-widgets/controls",
          "model_name": "DescriptionStyleModel",
          "state": {
            "_view_name": "StyleView",
            "_model_name": "DescriptionStyleModel",
            "description_width": "",
            "_view_module": "@jupyter-widgets/base",
            "_model_module_version": "1.5.0",
            "_view_count": null,
            "_view_module_version": "1.2.0",
            "_model_module": "@jupyter-widgets/controls"
          }
        },
        "671d2043815b47a0bb66e365e92eb785": {
          "model_module": "@jupyter-widgets/base",
          "model_name": "LayoutModel",
          "state": {
            "_view_name": "LayoutView",
            "grid_template_rows": null,
            "right": null,
            "justify_content": null,
            "_view_module": "@jupyter-widgets/base",
            "overflow": null,
            "_model_module_version": "1.2.0",
            "_view_count": null,
            "flex_flow": null,
            "width": null,
            "min_width": null,
            "border": null,
            "align_items": null,
            "bottom": null,
            "_model_module": "@jupyter-widgets/base",
            "top": null,
            "grid_column": null,
            "overflow_y": null,
            "overflow_x": null,
            "grid_auto_flow": null,
            "grid_area": null,
            "grid_template_columns": null,
            "flex": null,
            "_model_name": "LayoutModel",
            "justify_items": null,
            "grid_row": null,
            "max_height": null,
            "align_content": null,
            "visibility": null,
            "align_self": null,
            "height": null,
            "min_height": null,
            "padding": null,
            "grid_auto_rows": null,
            "grid_gap": null,
            "max_width": null,
            "order": null,
            "_view_module_version": "1.2.0",
            "grid_template_areas": null,
            "object_position": null,
            "object_fit": null,
            "grid_auto_columns": null,
            "margin": null,
            "display": null,
            "left": null
          }
        }
      }
    }
  },
  "cells": [
    {
      "cell_type": "markdown",
      "metadata": {
        "id": "view-in-github",
        "colab_type": "text"
      },
      "source": [
        "<a href=\"https://colab.research.google.com/github/nyw-pathfinder/Pathfinder_Deeplearining/blob/master/20210414_copy.ipynb\" target=\"_parent\"><img src=\"https://colab.research.google.com/assets/colab-badge.svg\" alt=\"Open In Colab\"/></a>"
      ]
    },
    {
      "cell_type": "markdown",
      "metadata": {
        "id": "Wxkd3z3F27iX"
      },
      "source": [
        "# Table of Contents\n",
        "\n",
        "- [Training](#train)\n",
        "- [Exercises](#exercises)"
      ]
    },
    {
      "cell_type": "markdown",
      "metadata": {
        "id": "0idWyVBq27ij"
      },
      "source": [
        "# Housekeeping\n",
        "\n",
        "- Some references for today\n",
        "  - [Official pytorch tutorials](https://pytorch.org/tutorials/)\n",
        "  - [Pytorch tutorials by yunjey, from beginning to advanced](https://github.com/yunjey/pytorch-tutorial)\n",
        "  - [MIT Intro to Deep Learning](https://www.youtube.com/watch?v=njKP3FqW3Sk&list=PLtBw6njQRU-rwp5__7C0oIVt26ZgjG9NI&index=1) lecture video \n",
        "    (overview of machine learning and neural networks)\n",
        "  - [Machine Learning Basics](https://www.deeplearningbook.org/contents/ml.html) from the Deep Learning Book \n",
        "    (especially section 5.2 on Capacity, Overfitting and Underfitting)\n",
        "- Today's url \n",
        "  - https://git.io/ml2021-06\n",
        "- Email if you need help with any of this!\n",
        "\n",
        "# Some Preliminary Words on Training <a id=\"training\" />\n",
        "\n",
        "- In the last weeks, we learnt how to create neural networks in pytorch, and\n",
        "  about some of the loss functions and optimizers we are able to use\n",
        "- We saw its easy to take some data, throw a neural network at it and\n",
        "  get it to train\n",
        "- The hard part is developing a *good* model for the data\n",
        "- Neural networks are prone to failure modes we'll discuss today\n",
        "- Its important to understand these failure modes and build *robust*\n",
        "  networks\n",
        "- So, before moving onto the deep learning topics that we'll spend the\n",
        "  rest of the course on, lets stop and talk a bit about training\n",
        "\n",
        "# Generalization\n",
        "\n",
        "- The goal of building a model on known inputs is that we want the\n",
        "  model to *generalize* to unlabelled data\n",
        "- That is, the data should correctly classify data from outside the training set\n",
        "- If the model only works on datapoints in the training, its not much use\n",
        "  - Imagine your a medical expert training a network to detect cancer,\n",
        "    you build a cancer classifier which takes as inputs MRI scans. If\n",
        "    it works correctly on images its seen in the training set\n",
        "    (labelled by doctors based on patient outcomes), but randomly\n",
        "    assigns labels to other images, its not useful to you at all, and\n",
        "    could cost lives!\n",
        "- The goal of this lesson is to figure out how best to train models\n",
        "  that generalize\n",
        "\n",
        "# Undertraining and Overtraining\n",
        "\n",
        "- **Undertraining** is when a model isn't complex enough to be able to\n",
        "  find the trends in the data\n",
        "  - Imagine a regression task where the data follows a quadratic\n",
        "    curve, fitting a linear function won't be able to capture all the information\n",
        "- **Overtraining** is when a model is too complex and it begins fitting\n",
        "  *fluctuations* in the labelled datapoints\n",
        "  - We imagine theres some random errors in the data that can't be\n",
        "    modelled, when a model is overtrained, it takes these random\n",
        "    errors seriously and forms a model for them, which can't\n",
        "    generalize to unseen data\n",
        "\n",
        "As we increase the polynomial order of the fit function, we start to overtrain\n"
      ]
    },
    {
      "cell_type": "code",
      "metadata": {
        "id": "sIJWXk9W27ik",
        "outputId": "ad9dc0e1-41c2-427a-d746-dbb26557084e"
      },
      "source": [
        "import torch\n",
        "import numpy as np\n",
        "import matplotlib.pyplot as plt\n",
        "npoints = 50\n",
        "red = torch.stack((torch.randn(npoints), torch.randn(npoints)), axis=1)\n",
        "blue = torch.stack((torch.randn(npoints)+1.5, torch.randn(npoints)+1.5), axis=1)\n",
        "\n",
        "plt.scatter(red[:,0], red[:,1], c='r');plt.scatter(blue[:,0], blue[:,1], c='b')\n",
        "plt.show()\n",
        "\n",
        "class Model(torch.nn.Module):\n",
        "  def __init__(self, n):\n",
        "    super(Model, self).__init__()\n",
        "    self.n = n\n",
        "    self.fc1 = torch.nn.Linear(2,n)\n",
        "    self.fc2 = torch.nn.Linear(n,n)\n",
        "    self.fc3 = torch.nn.Linear(n,1)\n",
        "  def forward(self, x):\n",
        "    #x = torch.stack([x**i for i in range(self.n+1)], axis=1)\n",
        "    x = th.relu(self.fc1(x))\n",
        "    x = th.relu(self.fc2(x))\n",
        "    x = th.sigmoid(self.fc3(x))\n",
        "    return x\n",
        "\n",
        "xs = th.cat([red,blue])\n",
        "ys = th.cat([th.ones(len(red)), th.zeros(len(blue))])\n",
        "print(\"UNDERTRAINED?\")\n",
        "\n",
        "def showmodel(n):\n",
        " m = Model(n)\n",
        " lossf = torch.nn.BCELoss()\n",
        " optim = torch.optim.AdamW(m.parameters(),lr=0.01)\n",
        " for _ in range(2500):\n",
        "   optim.zero_grad()\n",
        "   fs = m(xs)\n",
        "   loss = lossf(fs.view(-1), ys)\n",
        "   loss.backward()\n",
        "   optim.step()\n",
        " x1,x2=np.meshgrid(np.linspace(-4,4), np.linspace(-4,4))\n",
        " col = m(th.tensor(np.dstack([x1,x2])).float())\n",
        " plt.imshow(col.detach().numpy(),origin='lower',extent=(-4,4,-4,4), cmap='bwr')\n",
        " plt.scatter(red[:,0], red[:,1], c='r',edgecolor='k');plt.scatter(blue[:,0], blue[:,1], c='b', edgecolor='k')\n",
        " plt.show()\n",
        "showmodel(2)\n",
        "showmodel(8)\n",
        "showmodel(32)\n",
        "showmodel(256)\n",
        "print(\"OVERTRAINED?\")\n"
      ],
      "execution_count": null,
      "outputs": [
        {
          "output_type": "display_data",
          "data": {
            "image/png": "[encoded data removed]",
            "text/plain": [
              "<Figure size 432x288 with 1 Axes>"
            ]
          },
          "metadata": {
            "tags": [],
            "needs_background": "light"
          }
        },
        {
          "output_type": "stream",
          "text": [
            "UNDERTRAINED?\n"
          ],
          "name": "stdout"
        },
        {
          "output_type": "display_data",
          "data": {
            "image/png": "[encoded data removed]",
            "text/plain": [
              "<Figure size 432x288 with 1 Axes>"
            ]
          },
          "metadata": {
            "tags": [],
            "needs_background": "light"
          }
        },
        {
          "output_type": "display_data",
          "data": {
            "image/png": "[encoded data removed]",
            "text/plain": [
              "<Figure size 432x288 with 1 Axes>"
            ]
          },
          "metadata": {
            "tags": [],
            "needs_background": "light"
          }
        },
        {
          "output_type": "display_data",
          "data": {
            "image/png": "[encoded data removed]",
            "text/plain": [
              "<Figure size 432x288 with 1 Axes>"
            ]
          },
          "metadata": {
            "tags": [],
            "needs_background": "light"
          }
        },
        {
          "output_type": "display_data",
          "data": {
            "image/png": "[encoded data removed]",
            "text/plain": [
              "<Figure size 432x288 with 1 Axes>"
            ]
          },
          "metadata": {
            "tags": [],
            "needs_background": "light"
          }
        },
        {
          "output_type": "stream",
          "text": [
            "OVERTRAINED?\n"
          ],
          "name": "stdout"
        }
      ]
    },
    {
      "cell_type": "markdown",
      "metadata": {
        "id": "z92V8GtJ27io"
      },
      "source": [
        "# Model Capacity\n",
        "- A model's *capacity* is its ability to fit a wide variety of functions\n",
        "- Models with low capacity might struggle to fit the training set,\n",
        "  while those with high capacity can memorize parts of the training\n",
        "  set that don't generalize, in the extreme just memorizes the entire dataset\n",
        "- Capacity can be controlled in different ways depending on the model\n",
        "- E.g. last week we considered linear regression, we can increase the\n",
        "  capacity by allow higher order terms as new features\n",
        "  - Linear regression models the relationship of $y$ and $x$ by assuming $y = ax + b$\n",
        "  - If we introduce $x^2$ as a feature, we can additionally model\n",
        "    quadratic relationships, $y=ax^2+bx+c$\n",
        "  - The more terms we allow, the more features we can model, but the\n",
        "    greater the chance we memorize datapoints rather than the trends\n",
        "- For our basic neural networks, capacity increases with increasing\n",
        "  number of nodes in the hidden layer, and with increasing number of\n",
        "  layers ???\n",
        "  \n",
        "\n",
        "# The Bias-Variance Tradeoff\n",
        "\n"
      ]
    },
    {
      "cell_type": "code",
      "metadata": {
        "id": "fT2JMTea27ip",
        "outputId": "631fc9d8-41f9-4386-ab5c-806f9dc35e5c"
      },
      "source": [
        "from IPython.display import Image\n",
        "Image(\"bias-variance.png\")"
      ],
      "execution_count": null,
      "outputs": [
        {
          "output_type": "execute_result",
          "data": {
            "image/png": "[encoded data removed]",
            "text/plain": [
              "<IPython.core.display.Image object>"
            ]
          },
          "metadata": {
            "tags": []
          },
          "execution_count": 13
        }
      ]
    },
    {
      "cell_type": "markdown",
      "metadata": {
        "id": "HFlcLVlg27iq"
      },
      "source": [
        "- *Bias*: the difference between our model prediction and the datapoints\n",
        "  - A high *bias* model has large differences between the datapoints\n",
        "  - A model which doesn't have enough parameters *underfits* the data\n",
        "- *Variance, a measure of the fluctuations of the data or model, high\n",
        "  variance models are typically fitting the intrinsic noise of the data\n",
        "  - A high variance model implies small changes in the input cause large changes in the output\n",
        "  - A high variance model with too many parameters *overfits* the data\n",
        "- The *bias-variance trade off* is a theorem which tells us that you\n",
        "  trade off model bias for variance and vice-versa, in practice we try\n",
        "  to find a happy medium between the two\n",
        "  - (Formally, the bias variance tradeoff concerns the behaivour of\n",
        "    statistical estimators, in practice in ML, we have a fuzzy idea as\n",
        "    described above, see the Deep Learning Book for the math)\n",
        "\n",
        "# Testing and Training"
      ]
    },
    {
      "cell_type": "code",
      "metadata": {
        "id": "3K873C2H27iq",
        "outputId": "990fe1c7-7533-48f0-d215-57156b33a90e"
      },
      "source": [
        "plt.plot(training_loss, label='train')\n",
        "plt.plot(testing_loss, label='test')\n",
        "plt.legend(loc='upper right'); plt.xlabel('epoch'); plt.ylabel('loss')"
      ],
      "execution_count": null,
      "outputs": [
        {
          "output_type": "execute_result",
          "data": {
            "text/plain": [
              "Text(0, 0.5, 'loss')"
            ]
          },
          "metadata": {
            "tags": []
          },
          "execution_count": 33
        },
        {
          "output_type": "display_data",
          "data": {
            "image/png": "[encoded data removed]",
            "text/plain": [
              "<Figure size 432x288 with 1 Axes>"
            ]
          },
          "metadata": {
            "tags": [],
            "needs_background": "light"
          }
        }
      ]
    },
    {
      "cell_type": "markdown",
      "metadata": {
        "id": "EunRID5m27ir"
      },
      "source": [
        "[link text](https://)- When <font color=blue>training</font> a model, in order to check for overtraining, we\n",
        "  generally set aside some portion of the (labelled) data as a <font color=orange>test set</font>\n",
        "  - The <font color=orange>test set</font> is *never* used in the <font color=blue>training</font> stage\n",
        "  - The exactly split depends on how much data you have, 20% is a good\n",
        "    rough number if you really have no idea\n",
        "- We periodically check the model with the <font color=orange>test set</font>, and check to see\n",
        "  if the average loss of the <font color=blue>training</font>\n",
        "- The <font color=blue>training</font> average should follow the <font color=orange>test set</font> average, they will\n",
        "  diverge when the model starts overtraining\n",
        "\n",
        "# k-fold Cross-Validation\n",
        "- For models which can be trivially trained in a short amount of time,\n",
        "  you can also do more sophisticated checks such as k-fold\n",
        "  cross-validation\n",
        "  - Split the data into k equal sized subset, train k times, holding a\n",
        "    different subset each time, where each time training with k-1 of\n",
        "    the subsets, and using the the held out subset as the training sample\n",
        "  - You can use the properties of the k predictions as an estimator of\n",
        "    the bias and variance of the selected model (typically, you would\n",
        "    be using this to tune hyperparameters or something similar)\n",
        "- High bias models will have uniformly bad results across all test cases\n",
        "  - Always gets it wrong, but wrong in the same way across the test sets\n",
        "- High variance models will have highly divergent results between the\n",
        "  test sets\n",
        "  - Gets it wrong in unique ways across the test sets, since the\n",
        "    different sets have different exact fluctuations\n",
        "- A typical training regime could be:\n",
        "  - split into test and training, \n",
        "  - do k-fold cross-validation to find a good set of hyperparameters, \n",
        "  - train on the full training set, then \n",
        "  - check performance on the test set\n",
        "\n",
        "# Early Stopping\n",
        "\n",
        "- In deep learning, a single model can contain millions of parameters\n",
        "  and training can take days or weeks\n",
        "- In this case, sophisticated techniques aren't viable and instead, as\n",
        "  well as saving information on the loss, you also save the model weights\n",
        "- Then you check the testing-training loss as you go, and *choose* the\n",
        "  model parameters when the test and training curves begin diverging\n",
        "- This is early stopping, you stop training and take the model at a\n",
        "  point where it hasn't overtrained, rather than fully training the\n",
        "  model\n",
        "- In the case illustrated here, my solution to today's exercise,\n",
        "  the model starts overtraining after 4 or 5 epochs, so we'd use the\n",
        "  5-epoch model"
      ]
    },
    {
      "cell_type": "markdown",
      "metadata": {
        "id": "_ADs49TR27ir"
      },
      "source": [
        "# Training, Testing and Validation\n",
        "\n",
        "- One further complication, if you're also doing an extensive\n",
        "  *hyperparameter* search, you may also want to set aside a\n",
        "  `validation` set, as well as a testing and training set\n",
        "  - *hyperparameters* are parameters used in training the model, which\n",
        "    could be the loss rate of the SGD, the number of nodes, or even\n",
        "    switching in and out different types of models\n",
        "- In an extensive hyperparameter search, you could also be implicitly\n",
        "  tuning to the testing set, since you're using the testing results as a\n",
        "  goodness-of-model for potentially thousands of models\n",
        "  - Thus, the model you choose might just happen to be a good fit to\n",
        "    the test set because you're comparing lots of models via the test\n",
        "    set, not because it actually generalizes well\n",
        "- Thus, the validation set is set aside and not used in the testing\n",
        "  stage, but only after you've selected your final model\n",
        "  - A truly generalizable model should also have good properties on\n",
        "    the validation set, if not, you may have fit the hyperparameters\n",
        "    to the test, rather than found a generalizable model\n",
        "- When you're searching for a good model for your problem and have\n",
        "  lots of data, also keep aside a validation dataset for a final\n",
        "  validation of your selected model\n"
      ]
    },
    {
      "cell_type": "markdown",
      "metadata": {
        "id": "kPkIq1Ov27is"
      },
      "source": [
        "# Testing and Training in PyTorch\n",
        "\n",
        "- In pytorch, you should set your network into training mode when\n",
        "  training, and evaluation mode when testing (or running in production)\n",
        "- The differences will become important and make more sense when we\n",
        "  start talking about *regularization* later on in the course\n",
        "  - For now, just get use to the fact that you should set the network\n",
        "    into training mode when training, and eval mode otherwise\n",
        "\n"
      ]
    },
    {
      "cell_type": "code",
      "metadata": {
        "id": "QTuo4X0v27is"
      },
      "source": [
        "net.train() # set into training mode\n",
        "# do training\n",
        "net.eval() # set into evaluation mode\n",
        "# do testing, or production"
      ],
      "execution_count": null,
      "outputs": []
    },
    {
      "cell_type": "markdown",
      "metadata": {
        "id": "vduAwJWX27iu"
      },
      "source": [
        "# A Typical Training Loop in PyTorch\n",
        "\n",
        "- Here is a basic training loop with a testing phase at the end of each epoch\n",
        "- Assume `net` is our neural net (or other model), `data_training` is\n",
        "  a list of `(input, label)` pairs pre-split into minibatches and\n",
        "  `data_testing` is a tuple of the test inputs and corresponding labels,\n",
        "  `optimizer` is the optimizer, `criterion` is the loss function,\n",
        "  `device` is a cuda or cpu device\n",
        "- We keep track of the running loss to compute the average over the\n",
        "  epoch and compare with the test set\n"
      ]
    },
    {
      "cell_type": "code",
      "metadata": {
        "id": "jWNykCUu27iv"
      },
      "source": [
        "inputs_testing, labels_testing = data_testing[0].to(device), data_testing[1].to(device)\n",
        "for epoch in range(num_epochs):\n",
        "  net.train()\n",
        "  running_loss, running_correct, running_n = 0.0, 0.0, 0.0\n",
        "  for inputs, labels in data_batches:\n",
        "    inputs, labels = inputs.to(device), labels.to(device)\n",
        "    optimizer.zero_grad()\n",
        "    outputs = net(inputs)\n",
        "    loss = criterion(outputs, labels)\n",
        "    loss.backward()\n",
        "    running_loss += loss.item() * inputs.size(0) # loss is the avg. for the batch\n",
        "    # max returns a tuple of tensors: (highest value, index of highest value)\n",
        "    running_correct += torch.sum(torch.max(outputs,1)[1] == labels.data)\n",
        "    running_n += inputs.size(0)\n",
        "    optimizer.step()\n",
        "  print(\"Train loss: {:.3f} acc: {:.3f}\".format(running_loss / running_n, running_correct / running_n))\n",
        "  net.eval()\n",
        "  outputs = net(inputs_testing)\n",
        "  loss = criterion(outputs, labels_testing)\n",
        "  print(\"Test  loss: {:.3f} acc: {:.3f}\".format(loss / inputs_testing.size(0))))"
      ],
      "execution_count": null,
      "outputs": []
    },
    {
      "cell_type": "markdown",
      "metadata": {
        "id": "7jesb_SY27iv"
      },
      "source": [
        "# Early Stopping in PyTorch, Saving/Loading Models\n",
        "\n",
        "- In pytorch, saving a model implies saving the model weights\n",
        "  - To load the model, you create the model as normal, and then load the saved weights back in\n",
        "- To save the model weights into a file, you can use `torch.save`, which you need to pass the \"state_dict\" and a filename"
      ]
    },
    {
      "cell_type": "code",
      "metadata": {
        "id": "uhsGELjf27iv"
      },
      "source": [
        "torch.save(model.state_dict(), 'model_weights.pth')"
      ],
      "execution_count": null,
      "outputs": []
    },
    {
      "cell_type": "markdown",
      "metadata": {
        "id": "6u3CytQb27iw"
      },
      "source": [
        "- To load the weights back in, create the model, then call `load_state_dict` with the result of `torch.load`"
      ]
    },
    {
      "cell_type": "markdown",
      "metadata": {
        "id": "9XIdiTbu27iw"
      },
      "source": [
        "model = Net() # Say we have a network called `Net`\n",
        "model.load_state_dict(torch.load('model_weights.pth'))"
      ]
    },
    {
      "cell_type": "markdown",
      "metadata": {
        "id": "j5nqsIen27iw"
      },
      "source": [
        "- To implement early stopping, we can keep track of the testing loss, and save the model whenever we have the lowest currently seen loss\n",
        "- In this way, what gets saved out at the end of the run is the model state with the lowest seen training loss over the whole training\n",
        "\n",
        "One final ancilliary issue: you can build up straightfoward networks with `Sequential`, which will pass the data through one layer at a time. There are `th.nn.ReLU` and equivalent layers for the activation functions. This is limited if you want to make some of the more interesting networks we will see in the future, but in the complete example below, you can see its even useful for defining subnetworks inside a full network."
      ]
    },
    {
      "cell_type": "code",
      "metadata": {
        "id": "J3h33XYF27iw",
        "outputId": "19f09ca1-d4f8-47e4-a019-662411f531f8"
      },
      "source": [
        "# A Fisher Iris network 4 inputs -> 32 hidden layer with relu activation -> 3 outputs\n",
        "net = th.nn.Sequential(th.nn.Linear(4,32), th.nn.ReLU(), th.nn.Linear(32, 3))\n",
        "net(th.tensor([1,2,3,4.]))"
      ],
      "execution_count": null,
      "outputs": [
        {
          "output_type": "execute_result",
          "data": {
            "text/plain": [
              "tensor([ 0.6485,  0.2484, -1.9130], grad_fn=<AddBackward0>)"
            ]
          },
          "metadata": {
            "tags": []
          },
          "execution_count": 5
        }
      ]
    },
    {
      "cell_type": "markdown",
      "metadata": {
        "id": "0hn9z7RC27ix"
      },
      "source": [
        "Here is a complete example, using the FasionMNIST dataset  with a simple CNN. As always, when running, change the data directory to somewhere you have access to. Its a nice example of overtraining. Here, instead of running for a fixed number of epochs, we run until we haven't saved the network out for 20 epochs. This is another hyperparameter sometimes called \"patience\"."
      ]
    },
    {
      "cell_type": "code",
      "metadata": {
        "id": "ph8iYBWT27ix",
        "colab": {
          "base_uri": "https://localhost:8080/",
          "height": 1000,
          "referenced_widgets": [
            "72d28fb796f04616b73c1ce03edbe0fe",
            "cc736318fdaa4a6d9d3c4ae04f723e42",
            "f7102287944e4f28b7a4e6699558b58b",
            "da96a1fd054e41c4ac87e507551c726a",
            "ef90d80040274bfb87a8dd3e02c7fb7d",
            "9fa670280bf64035b57f6b2a9c470e5c",
            "a6b7f899c6244ac0836992efa33ef051",
            "adeb8549264845a49b56d1dafb040720",
            "57f28d823ccc43eeaa27f2586314d986",
            "f09a992c4c0b4ab6aa334886e4a61bf9",
            "406c4ff48a4f4ec187ea0b88b06b6abc",
            "01a1754628e6485bb88a7bba6ae3f47a",
            "e924b920464f471587c154d3d04f8395",
            "f41e7b3a81524667b977dd2afe8d5dea",
            "e85df4571f0e40b48fd0c7453d1d4b87",
            "dcf0736372754e5abd17ca2eca5e19a0",
            "72ab1c0bfbb8420fbcaecc2103cae2b4",
            "c909a13b92254939a90fea3701e2f5b0",
            "d58325842cec40e289a9f87b6a886168",
            "9e5d605069384b5987d1c80099f6a21c",
            "79f7f26a3c634628bb4bce74b03760db",
            "8b8bfe266b464e59af5687424e1f8a87",
            "b21214dfaa3341bca578e086ed03c749",
            "e0b58f419d0246fda690bbcb403d7f87",
            "1350fdc88a074967b9625fe5fb54d5de",
            "2fe6d1c6f4ab4c8c956632363b622893",
            "baa63745a6d34241b6a833444ca3955d",
            "cd519c5cde5445df80ac02ef83bb8b7e",
            "c103f32d743d43378bac4cf16c4341ac",
            "32faa8ca7eeb43c1b23a8c573f65d7fc",
            "3ff857a6e06a483c877fa5f5e8e1c0a4",
            "671d2043815b47a0bb66e365e92eb785"
          ]
        },
        "outputId": "de46d65f-4690-4197-c770-6e973753fc2d"
      },
      "source": [
        "device = 'cuda'\n",
        "import torch as th\n",
        "import torchvision as tv\n",
        "from collections import defaultdict\n",
        "import matplotlib.pyplot as plt\n",
        "trans = tv.transforms.ToTensor()\n",
        "train = th.utils.data.DataLoader(tv.datasets.FashionMNIST('/data/torchvision', train=True, download=True, transform=trans), batch_size=256)\n",
        "test = th.utils.data.DataLoader(tv.datasets.FashionMNIST('/data/torchvision', train=False, download=True, transform=trans), batch_size=256)\n",
        "\n",
        "class FNet(th.nn.Module):\n",
        "    def __init__(self):\n",
        "        super().__init__()\n",
        "        # pack the conv2d+relu into a single structure\n",
        "        self.c1 = th.nn.Sequential(th.nn.Conv2d(1,8,7), th.nn.ReLU())\n",
        "        self.c2 = th.nn.Sequential(th.nn.Conv2d(8,16,5), th.nn.ReLU())\n",
        "        self.c3 = th.nn.Sequential(th.nn.Conv2d(16,32,3), th.nn.ReLU())\n",
        "        self.fc = th.nn.Linear(32*16*16,10)\n",
        "    def forward(self, x):\n",
        "        x = self.c1(x) # conv2d + relu, 22x22\n",
        "        x = self.c2(x) # 18x18\n",
        "        x = self.c3(x) # 16x16\n",
        "        x = x.view(-1, 32*16*16)\n",
        "        x = self.fc(x)\n",
        "        return x\n",
        "\n",
        "net = FNet().to(device)\n",
        "opt = th.optim.Adam(net.parameters())\n",
        "l = th.nn.CrossEntropyLoss()\n",
        "per_epoch = defaultdict(lambda:[])\n",
        "last_save = 0\n",
        "e = 0\n",
        "while last_save < 20:\n",
        "    per_batch = defaultdict(lambda:[])\n",
        "    for images, labels in train:\n",
        "        opt.zero_grad()\n",
        "        outputs = net(images.to(device))\n",
        "        loss = l(outputs, labels.to(device))\n",
        "        loss.backward()\n",
        "        opt.step()\n",
        "        per_batch[\"loss\"].append(loss.item()*images.size(0))\n",
        "        per_batch[\"corr\"].append(sum(th.max(outputs,1)[1].cpu()==labels))\n",
        "        per_batch[\"n\"].append(images.size(0))\n",
        "    per_epoch[\"loss\"].append(sum(per_batch[\"loss\"])/sum(per_batch[\"n\"]))\n",
        "    per_epoch[\"acc\"].append(sum(per_batch[\"corr\"])/sum(per_batch[\"n\"]))\n",
        "    for images, labels in test:\n",
        "        outputs = net(images.to(device))\n",
        "        loss = l(outputs, labels.to(device))\n",
        "        per_batch[\"tloss\"].append(loss.item()*images.size(0))\n",
        "        per_batch[\"tcorr\"].append(sum(th.max(outputs,1)[1].cpu()==labels))\n",
        "        per_batch[\"tn\"].append(images.size(0))\n",
        "    per_epoch[\"tloss\"].append(sum(per_batch[\"tloss\"])/sum(per_batch[\"tn\"]))\n",
        "    per_epoch[\"tacc\"].append(sum(per_batch[\"tcorr\"])/sum(per_batch[\"tn\"]))\n",
        "    print(f'epoch {e:03d} : train loss {per_epoch[\"loss\"][-1]:.3f} acc {per_epoch[\"acc\"][-1]:.3f} test loss {per_epoch[\"tloss\"][-1]:.3f} acc {per_epoch[\"tacc\"][-1]:.3f}')\n",
        "    # early stopping: if we are at the best epoch (= epoch with lowest loss), save the weights\n",
        "    last_save += 1; e += 1\n",
        "    if per_epoch[\"tloss\"][-1] == min(per_epoch[\"tloss\"]):\n",
        "        print(\"  saving network\")\n",
        "        th.save(net.state_dict(), 'fnet_weights.pt')\n",
        "        last_save = 0\n",
        "print(\"done training.\")\n",
        "# reload the best weights\n",
        "net.load_state_dict(th.load('fnet_weights.pt'))\n",
        "# Make plots of the training/testing losses\n",
        "plt.plot(per_epoch[\"loss\"], label=\"train\")\n",
        "plt.plot(per_epoch[\"tloss\"], label=\"test\")\n",
        "plt.legend(loc=\"upper right\")"
      ],
      "execution_count": null,
      "outputs": [
        {
          "output_type": "stream",
          "text": [
            "Downloading http://fashion-mnist.s3-website.eu-central-1.amazonaws.com/train-images-idx3-ubyte.gz\n",
            "Downloading http://fashion-mnist.s3-website.eu-central-1.amazonaws.com/train-images-idx3-ubyte.gz to /data/torchvision/FashionMNIST/raw/train-images-idx3-ubyte.gz\n"
          ],
          "name": "stdout"
        },
        {
          "output_type": "display_data",
          "data": {
            "application/vnd.jupyter.widget-view+json": {
              "model_id": "72d28fb796f04616b73c1ce03edbe0fe",
              "version_minor": 0,
              "version_major": 2
            },
            "text/plain": [
              "HBox(children=(FloatProgress(value=0.0, max=26421880.0), HTML(value='')))"
            ]
          },
          "metadata": {
            "tags": []
          }
        },
        {
          "output_type": "stream",
          "text": [
            "\n",
            "Extracting /data/torchvision/FashionMNIST/raw/train-images-idx3-ubyte.gz to /data/torchvision/FashionMNIST/raw\n",
            "\n",
            "Downloading http://fashion-mnist.s3-website.eu-central-1.amazonaws.com/train-labels-idx1-ubyte.gz\n",
            "Downloading http://fashion-mnist.s3-website.eu-central-1.amazonaws.com/train-labels-idx1-ubyte.gz to /data/torchvision/FashionMNIST/raw/train-labels-idx1-ubyte.gz\n"
          ],
          "name": "stdout"
        },
        {
          "output_type": "display_data",
          "data": {
            "application/vnd.jupyter.widget-view+json": {
              "model_id": "57f28d823ccc43eeaa27f2586314d986",
              "version_minor": 0,
              "version_major": 2
            },
            "text/plain": [
              "HBox(children=(FloatProgress(value=0.0, max=29515.0), HTML(value='')))"
            ]
          },
          "metadata": {
            "tags": []
          }
        },
        {
          "output_type": "stream",
          "text": [
            "\n",
            "Extracting /data/torchvision/FashionMNIST/raw/train-labels-idx1-ubyte.gz to /data/torchvision/FashionMNIST/raw\n",
            "\n",
            "Downloading http://fashion-mnist.s3-website.eu-central-1.amazonaws.com/t10k-images-idx3-ubyte.gz\n",
            "Downloading http://fashion-mnist.s3-website.eu-central-1.amazonaws.com/t10k-images-idx3-ubyte.gz to /data/torchvision/FashionMNIST/raw/t10k-images-idx3-ubyte.gz\n"
          ],
          "name": "stdout"
        },
        {
          "output_type": "display_data",
          "data": {
            "application/vnd.jupyter.widget-view+json": {
              "model_id": "72ab1c0bfbb8420fbcaecc2103cae2b4",
              "version_minor": 0,
              "version_major": 2
            },
            "text/plain": [
              "HBox(children=(FloatProgress(value=0.0, max=4422102.0), HTML(value='')))"
            ]
          },
          "metadata": {
            "tags": []
          }
        },
        {
          "output_type": "stream",
          "text": [
            "\n",
            "Extracting /data/torchvision/FashionMNIST/raw/t10k-images-idx3-ubyte.gz to /data/torchvision/FashionMNIST/raw\n",
            "\n",
            "Downloading http://fashion-mnist.s3-website.eu-central-1.amazonaws.com/t10k-labels-idx1-ubyte.gz\n",
            "Downloading http://fashion-mnist.s3-website.eu-central-1.amazonaws.com/t10k-labels-idx1-ubyte.gz to /data/torchvision/FashionMNIST/raw/t10k-labels-idx1-ubyte.gz\n"
          ],
          "name": "stdout"
        },
        {
          "output_type": "display_data",
          "data": {
            "application/vnd.jupyter.widget-view+json": {
              "model_id": "1350fdc88a074967b9625fe5fb54d5de",
              "version_minor": 0,
              "version_major": 2
            },
            "text/plain": [
              "HBox(children=(FloatProgress(value=0.0, max=5148.0), HTML(value='')))"
            ]
          },
          "metadata": {
            "tags": []
          }
        },
        {
          "output_type": "stream",
          "text": [
            "\n",
            "Extracting /data/torchvision/FashionMNIST/raw/t10k-labels-idx1-ubyte.gz to /data/torchvision/FashionMNIST/raw\n",
            "\n",
            "Processing...\n",
            "Done!\n"
          ],
          "name": "stdout"
        },
        {
          "output_type": "stream",
          "text": [
            "/usr/local/lib/python3.7/dist-packages/torchvision/datasets/mnist.py:502: UserWarning: The given NumPy array is not writeable, and PyTorch does not support non-writeable tensors. This means you can write to the underlying (supposedly non-writeable) NumPy array using the tensor. You may want to copy the array to protect its data or make it writeable before converting it to a tensor. This type of warning will be suppressed for the rest of this program. (Triggered internally at  /pytorch/torch/csrc/utils/tensor_numpy.cpp:143.)\n",
            "  return torch.from_numpy(parsed.astype(m[2], copy=False)).view(*s)\n"
          ],
          "name": "stderr"
        },
        {
          "output_type": "stream",
          "text": [
            "epoch 000 : train loss 0.688 acc 0.750 test loss 0.535 acc 0.808\n",
            "  saving network\n",
            "epoch 001 : train loss 0.440 acc 0.843 test loss 0.441 acc 0.844\n",
            "  saving network\n",
            "epoch 002 : train loss 0.379 acc 0.864 test loss 0.387 acc 0.864\n",
            "  saving network\n",
            "epoch 003 : train loss 0.343 acc 0.877 test loss 0.368 acc 0.870\n",
            "  saving network\n",
            "epoch 004 : train loss 0.320 acc 0.885 test loss 0.356 acc 0.873\n",
            "  saving network\n",
            "epoch 005 : train loss 0.302 acc 0.892 test loss 0.347 acc 0.879\n",
            "  saving network\n",
            "epoch 006 : train loss 0.288 acc 0.897 test loss 0.340 acc 0.880\n",
            "  saving network\n",
            "epoch 007 : train loss 0.275 acc 0.902 test loss 0.330 acc 0.885\n",
            "  saving network\n",
            "epoch 008 : train loss 0.265 acc 0.906 test loss 0.333 acc 0.885\n",
            "epoch 009 : train loss 0.255 acc 0.908 test loss 0.336 acc 0.885\n",
            "epoch 010 : train loss 0.245 acc 0.911 test loss 0.336 acc 0.885\n"
          ],
          "name": "stdout"
        },
        {
          "output_type": "error",
          "ename": "KeyboardInterrupt",
          "evalue": "ignored",
          "traceback": [
            "\u001b[0;31m---------------------------------------------------------------------------\u001b[0m",
            "\u001b[0;31mKeyboardInterrupt\u001b[0m                         Traceback (most recent call last)",
            "\u001b[0;32m<ipython-input-1-2bb6a16963ec>\u001b[0m in \u001b[0;36m<module>\u001b[0;34m()\u001b[0m\n\u001b[1;32m     36\u001b[0m         \u001b[0moutputs\u001b[0m \u001b[0;34m=\u001b[0m \u001b[0mnet\u001b[0m\u001b[0;34m(\u001b[0m\u001b[0mimages\u001b[0m\u001b[0;34m.\u001b[0m\u001b[0mto\u001b[0m\u001b[0;34m(\u001b[0m\u001b[0mdevice\u001b[0m\u001b[0;34m)\u001b[0m\u001b[0;34m)\u001b[0m\u001b[0;34m\u001b[0m\u001b[0;34m\u001b[0m\u001b[0m\n\u001b[1;32m     37\u001b[0m         \u001b[0mloss\u001b[0m \u001b[0;34m=\u001b[0m \u001b[0ml\u001b[0m\u001b[0;34m(\u001b[0m\u001b[0moutputs\u001b[0m\u001b[0;34m,\u001b[0m \u001b[0mlabels\u001b[0m\u001b[0;34m.\u001b[0m\u001b[0mto\u001b[0m\u001b[0;34m(\u001b[0m\u001b[0mdevice\u001b[0m\u001b[0;34m)\u001b[0m\u001b[0;34m)\u001b[0m\u001b[0;34m\u001b[0m\u001b[0;34m\u001b[0m\u001b[0m\n\u001b[0;32m---> 38\u001b[0;31m         \u001b[0mloss\u001b[0m\u001b[0;34m.\u001b[0m\u001b[0mbackward\u001b[0m\u001b[0;34m(\u001b[0m\u001b[0;34m)\u001b[0m\u001b[0;34m\u001b[0m\u001b[0;34m\u001b[0m\u001b[0m\n\u001b[0m\u001b[1;32m     39\u001b[0m         \u001b[0mopt\u001b[0m\u001b[0;34m.\u001b[0m\u001b[0mstep\u001b[0m\u001b[0;34m(\u001b[0m\u001b[0;34m)\u001b[0m\u001b[0;34m\u001b[0m\u001b[0;34m\u001b[0m\u001b[0m\n\u001b[1;32m     40\u001b[0m         \u001b[0mper_batch\u001b[0m\u001b[0;34m[\u001b[0m\u001b[0;34m\"loss\"\u001b[0m\u001b[0;34m]\u001b[0m\u001b[0;34m.\u001b[0m\u001b[0mappend\u001b[0m\u001b[0;34m(\u001b[0m\u001b[0mloss\u001b[0m\u001b[0;34m.\u001b[0m\u001b[0mitem\u001b[0m\u001b[0;34m(\u001b[0m\u001b[0;34m)\u001b[0m\u001b[0;34m*\u001b[0m\u001b[0mimages\u001b[0m\u001b[0;34m.\u001b[0m\u001b[0msize\u001b[0m\u001b[0;34m(\u001b[0m\u001b[0;36m0\u001b[0m\u001b[0;34m)\u001b[0m\u001b[0;34m)\u001b[0m\u001b[0;34m\u001b[0m\u001b[0;34m\u001b[0m\u001b[0m\n",
            "\u001b[0;32m/usr/local/lib/python3.7/dist-packages/torch/tensor.py\u001b[0m in \u001b[0;36mbackward\u001b[0;34m(self, gradient, retain_graph, create_graph, inputs)\u001b[0m\n\u001b[1;32m    243\u001b[0m                 \u001b[0mcreate_graph\u001b[0m\u001b[0;34m=\u001b[0m\u001b[0mcreate_graph\u001b[0m\u001b[0;34m,\u001b[0m\u001b[0;34m\u001b[0m\u001b[0;34m\u001b[0m\u001b[0m\n\u001b[1;32m    244\u001b[0m                 inputs=inputs)\n\u001b[0;32m--> 245\u001b[0;31m         \u001b[0mtorch\u001b[0m\u001b[0;34m.\u001b[0m\u001b[0mautograd\u001b[0m\u001b[0;34m.\u001b[0m\u001b[0mbackward\u001b[0m\u001b[0;34m(\u001b[0m\u001b[0mself\u001b[0m\u001b[0;34m,\u001b[0m \u001b[0mgradient\u001b[0m\u001b[0;34m,\u001b[0m \u001b[0mretain_graph\u001b[0m\u001b[0;34m,\u001b[0m \u001b[0mcreate_graph\u001b[0m\u001b[0;34m,\u001b[0m \u001b[0minputs\u001b[0m\u001b[0;34m=\u001b[0m\u001b[0minputs\u001b[0m\u001b[0;34m)\u001b[0m\u001b[0;34m\u001b[0m\u001b[0;34m\u001b[0m\u001b[0m\n\u001b[0m\u001b[1;32m    246\u001b[0m \u001b[0;34m\u001b[0m\u001b[0m\n\u001b[1;32m    247\u001b[0m     \u001b[0;32mdef\u001b[0m \u001b[0mregister_hook\u001b[0m\u001b[0;34m(\u001b[0m\u001b[0mself\u001b[0m\u001b[0;34m,\u001b[0m \u001b[0mhook\u001b[0m\u001b[0;34m)\u001b[0m\u001b[0;34m:\u001b[0m\u001b[0;34m\u001b[0m\u001b[0;34m\u001b[0m\u001b[0m\n",
            "\u001b[0;32m/usr/local/lib/python3.7/dist-packages/torch/autograd/__init__.py\u001b[0m in \u001b[0;36mbackward\u001b[0;34m(tensors, grad_tensors, retain_graph, create_graph, grad_variables, inputs)\u001b[0m\n\u001b[1;32m    145\u001b[0m     Variable._execution_engine.run_backward(\n\u001b[1;32m    146\u001b[0m         \u001b[0mtensors\u001b[0m\u001b[0;34m,\u001b[0m \u001b[0mgrad_tensors_\u001b[0m\u001b[0;34m,\u001b[0m \u001b[0mretain_graph\u001b[0m\u001b[0;34m,\u001b[0m \u001b[0mcreate_graph\u001b[0m\u001b[0;34m,\u001b[0m \u001b[0minputs\u001b[0m\u001b[0;34m,\u001b[0m\u001b[0;34m\u001b[0m\u001b[0;34m\u001b[0m\u001b[0m\n\u001b[0;32m--> 147\u001b[0;31m         allow_unreachable=True, accumulate_grad=True)  # allow_unreachable flag\n\u001b[0m\u001b[1;32m    148\u001b[0m \u001b[0;34m\u001b[0m\u001b[0m\n\u001b[1;32m    149\u001b[0m \u001b[0;34m\u001b[0m\u001b[0m\n",
            "\u001b[0;31mKeyboardInterrupt\u001b[0m: "
          ]
        }
      ]
    },
    {
      "cell_type": "markdown",
      "metadata": {
        "id": "-WM61-lO27iy"
      },
      "source": [
        ""
      ]
    },
    {
      "cell_type": "markdown",
      "metadata": {
        "id": "fjzKIl0_27iy"
      },
      "source": [
        "# Exercises <a id=\"exercises\" />\n",
        "\n",
        "- The exercises will introduce the CIFAR100 dataset, for which, as usual, we will\n",
        "  use the `torchvision` package to download and set up a `DataLoader`,\n",
        "  another helper feature that torch provides to help us process by\n",
        "  mini-batches.\n",
        "\n",
        "Today, lets introduce a more difficult. The goal of cifar100 is to take 32x32 color images of handwritten\n",
        "digits and classify each image into one of 100 categories.\n",
        "\n",
        "https://www.cs.toronto.edu/~kriz/cifar.html"
      ]
    },
    {
      "cell_type": "code",
      "metadata": {
        "id": "m2B-Peh127iy",
        "colab": {
          "base_uri": "https://localhost:8080/"
        },
        "outputId": "c2a4cf5d-0315-4db0-dfc6-e2abd05efa55"
      },
      "source": [
        "import torch as th\n",
        "import torchvision as tv\n",
        "trans = tv.transforms.ToTensor()\n",
        "train = tv.datasets.CIFAR100('/data/torchvision', train=True, download=True, transform=trans)\n",
        "test = tv.datasets.CIFAR100('/data/torchvision', train=False, download=True, transform=trans)\n",
        "print(train, \"\\n\", test)\n",
        "\n",
        "\n",
        "\n",
        "trainloader = th.utils.data.DataLoader(train, batch_size=64)\n",
        "testloader = th.utils.data.DataLoader(test, batch_size=64)\n",
        "\n",
        "\n",
        "print(test)"
      ],
      "execution_count": null,
      "outputs": [
        {
          "output_type": "stream",
          "text": [
            "Files already downloaded and verified\n",
            "Files already downloaded and verified\n",
            "Dataset CIFAR100\n",
            "    Number of datapoints: 50000\n",
            "    Root location: /data/torchvision\n",
            "    Split: Train\n",
            "    StandardTransform\n",
            "Transform: ToTensor() \n",
            " Dataset CIFAR100\n",
            "    Number of datapoints: 10000\n",
            "    Root location: /data/torchvision\n",
            "    Split: Test\n",
            "    StandardTransform\n",
            "Transform: ToTensor()\n",
            "Dataset CIFAR100\n",
            "    Number of datapoints: 10000\n",
            "    Root location: /data/torchvision\n",
            "    Split: Test\n",
            "    StandardTransform\n",
            "Transform: ToTensor()\n"
          ],
          "name": "stdout"
        }
      ]
    },
    {
      "cell_type": "markdown",
      "metadata": {
        "id": "lRFGrA7527iz"
      },
      "source": [
        "The dataset can be iterated over and will return one image every\n",
        "iteration. In the following cell, change the cell so that it displays\n",
        "the first five images of the dataset, and prints out the corresponding\n",
        "truth labels. You can use, for example, `matplotlib.pyplot.imshow`to\n",
        "display the images. The data is 3x32x32, but `imshow` expects the color channels to come *last*, so you will need to shuffle the axes in order to do this. Check the pytorch documentation on `permute` to do this."
      ]
    },
    {
      "cell_type": "code",
      "metadata": {
        "id": "VIjrhG0T27iz",
        "colab": {
          "base_uri": "https://localhost:8080/",
          "height": 674
        },
        "outputId": "35a6d628-5b17-43f1-df5d-d5f904756bfd"
      },
      "source": [
        "\n",
        "\n",
        "import matplotlib.pyplot as plt\n",
        "for image, label in train:\n",
        "  print(image,'\\n', label)\n",
        "  image2 = image.permute(1, 2, 0)  # [3, 32, 16\n",
        "  plt.imshow(image2)\n",
        "  plt.show()  \n",
        "\n",
        "  break\n",
        "\n",
        "# Exercise: Update cell to display the images"
      ],
      "execution_count": null,
      "outputs": [
        {
          "output_type": "stream",
          "text": [
            "tensor([[[1.0000, 1.0000, 1.0000,  ..., 0.7647, 0.8314, 0.7137],\n",
            "         [1.0000, 0.9961, 0.9961,  ..., 0.6667, 0.6314, 0.5725],\n",
            "         [1.0000, 0.9961, 1.0000,  ..., 0.7412, 0.6510, 0.4745],\n",
            "         ...,\n",
            "         [0.5804, 0.5569, 0.5490,  ..., 0.1176, 0.2549, 0.2980],\n",
            "         [0.4784, 0.4706, 0.4941,  ..., 0.0863, 0.3804, 0.5529],\n",
            "         [0.3412, 0.3451, 0.3961,  ..., 0.1333, 0.4118, 0.5412]],\n",
            "\n",
            "        [[1.0000, 1.0000, 1.0000,  ..., 0.8039, 0.8784, 0.7608],\n",
            "         [1.0000, 0.9961, 0.9961,  ..., 0.6902, 0.6588, 0.6039],\n",
            "         [1.0000, 0.9961, 1.0000,  ..., 0.7804, 0.6980, 0.5216],\n",
            "         ...,\n",
            "         [0.7255, 0.7137, 0.7020,  ..., 0.0667, 0.2431, 0.3020],\n",
            "         [0.6157, 0.6078, 0.6275,  ..., 0.0627, 0.4392, 0.6314],\n",
            "         [0.4784, 0.4784, 0.5255,  ..., 0.1412, 0.5216, 0.6784]],\n",
            "\n",
            "        [[1.0000, 1.0000, 1.0000,  ..., 0.7569, 0.8000, 0.6549],\n",
            "         [1.0000, 0.9961, 0.9961,  ..., 0.5882, 0.5098, 0.4431],\n",
            "         [1.0000, 0.9961, 1.0000,  ..., 0.6627, 0.5098, 0.3412],\n",
            "         ...,\n",
            "         [0.3098, 0.2235, 0.2353,  ..., 0.0039, 0.0588, 0.0784],\n",
            "         [0.2588, 0.2275, 0.2784,  ..., 0.0118, 0.2196, 0.3412],\n",
            "         [0.1608, 0.1529, 0.2196,  ..., 0.0392, 0.2314, 0.3098]]]) \n",
            " 19\n"
          ],
          "name": "stdout"
        },
        {
          "output_type": "display_data",
          "data": {
            "image/png": "[encoded data removed]",
            "text/plain": [
              "<Figure size 432x288 with 1 Axes>"
            ]
          },
          "metadata": {
            "tags": [],
            "needs_background": "light"
          }
        }
      ]
    },
    {
      "cell_type": "markdown",
      "metadata": {
        "id": "ZZjYiL7U27iz"
      },
      "source": [
        "The CIFAR100 dataset is big, with 60,000 images, 50k training and 10k testing. Therefore, we will\n",
        "process by mini-batches, rather than updating a full gradient descent\n",
        "once every time through the dataset. In order to create mini-batches,\n",
        "we could of course collect the images together ourselves, but lets\n",
        "instead use a `DataLoader`. We can pass the dataset in, and tell how\n",
        "we want to set up the mini-batches. The dataset we downloaded is the\n",
        "correct format to simply pass into the DataLoader, but we will see\n",
        "later that we can also write our own, if we have specialized data."
      ]
    },
    {
      "cell_type": "code",
      "metadata": {
        "id": "ASjerJtR27iz",
        "colab": {
          "base_uri": "https://localhost:8080/"
        },
        "outputId": "748c0b3d-3fb0-4dcf-9f18-edcfb56d87be"
      },
      "source": [
        "trainloader = th.utils.data.DataLoader(train, batch_size=64)\n",
        "testloader = th.utils.data.DataLoader(test, batch_size=64)\n",
        "# example of how this works, we get a tensor filled with one batch,\n",
        "# and the corresponding labels\n",
        "for images, labels in trainloader:\n",
        "  print(images.shape, labels.shape)\n",
        "  break"
      ],
      "execution_count": null,
      "outputs": [
        {
          "output_type": "stream",
          "text": [
            "torch.Size([64, 3, 32, 32]) torch.Size([64])\n"
          ],
          "name": "stdout"
        }
      ]
    },
    {
      "cell_type": "markdown",
      "metadata": {
        "id": "iFljcAlu27i0"
      },
      "source": [
        "Now, we're in a position to set up the network. Write a basic\n",
        "convolutional neural network which will train on the CIFAR100 using\n",
        "`torch.nn.Module`. For now, you can keep it simple, with a few convolution layers followed by a fully connected linear layer."
      ]
    },
    {
      "cell_type": "code",
      "metadata": {
        "id": "z6C9KBQ-27i0",
        "colab": {
          "base_uri": "https://localhost:8080/"
        },
        "outputId": "9c2010d4-1e95-4d09-e278-c78adc9514d7"
      },
      "source": [
        "device = 'cuda'\n",
        "import torch as th\n",
        "import torchvision as tv\n",
        "from collections import defaultdict\n",
        "import matplotlib.pyplot as plt\n",
        "from torch.utils.data import DataLoader\n",
        "\n",
        "import torchvision.transforms as transforms\n",
        "from torch.utils.data import DataLoader\n",
        "from torchvision import datasets, transforms\n",
        "\n",
        "import matplotlib.pyplot as plt\n",
        "import numpy as np\n",
        "\n",
        "trans = tv.transforms.ToTensor()\n",
        "train = tv.datasets.CIFAR100('/data/torchvision', train=True, download=True, transform=trans)\n",
        "test = tv.datasets.CIFAR100('/data/torchvision', train=False, download=True, transform=trans)\n",
        "\n",
        "trainloader = th.utils.data.DataLoader(train, batch_size=64)\n",
        "testloader = th.utils.data.DataLoader(test, batch_size=64)\n",
        "\n",
        "\n",
        "class SimpleCNN(th.nn.Module):\n",
        "  def __init__(self):\n",
        "    super(SimpleCNN, self).__init__()\n",
        "    \n",
        "    self.conv1 = th.nn.Conv2d(3,6,5,1,padding=1) \n",
        "    self.conv2 = th.nn.Conv2d(6,16,5,1,padding=0) \n",
        "\n",
        "    self.fc1 = th.nn.Linear(400,120)\n",
        "    self.fc2 = th.nn.Linear(120,84)\n",
        "    self.fc3 = th.nn.Linear(84,10)\n",
        "\n",
        "  def forward(self, x):\n",
        "    print(\"1\",x.size())\n",
        "    x1 = th.tanh(self.conv1(x))\n",
        "    print(\"2\",x1.size())\n",
        "    x1 = th.nn.AvgPool2d(kernel_size=2)(x1)\n",
        "    x2 = th.tanh(self.conv2(x1))\n",
        "    print(\"3\",x2.size())\n",
        "    x2 = th.nn.AvgPool2d(kernel_size=2)(x2)\n",
        "    print(\"4\",x2.size())\n",
        "    x2 = x2.reshape(x2.shape[0],-1)\n",
        "    print(\"5\",x2.size())\n",
        "    x3 = self.fc1(x2)\n",
        "    print(\"6\",x3.size())\n",
        "    x4 = self.fc2(x3)\n",
        "    print(\"7\",x4.size())\n",
        "    output = self.fc3(x4)\n",
        "    return output\n",
        "\n"
      ],
      "execution_count": 3,
      "outputs": [
        {
          "output_type": "stream",
          "text": [
            "Files already downloaded and verified\n",
            "Files already downloaded and verified\n"
          ],
          "name": "stdout"
        }
      ]
    },
    {
      "cell_type": "markdown",
      "metadata": {
        "id": "qE40Z-XP27i0"
      },
      "source": [
        ""
      ]
    },
    {
      "cell_type": "code",
      "metadata": {
        "id": "C0RVZMAmiw4Q",
        "colab": {
          "base_uri": "https://localhost:8080/",
          "height": 494
        },
        "outputId": "1ab31003-7a71-4445-92b2-a583e04476f6"
      },
      "source": [
        "\n",
        "net = SimpleCNN()\n",
        "\n",
        "opt = th.optim.Adam(net.parameters(), lr=1e-2)\n",
        "los = th.nn.CrossEntropyLoss()\n",
        "\n"
      ],
      "execution_count": 5,
      "outputs": [
        {
          "output_type": "stream",
          "text": [
            "1 torch.Size([64, 3, 32, 32])\n",
            "2 torch.Size([64, 6, 30, 30])\n",
            "3 torch.Size([64, 16, 11, 11])\n",
            "4 torch.Size([64, 16, 5, 5])\n",
            "5 torch.Size([64, 400])\n",
            "6 torch.Size([64, 120])\n",
            "7 torch.Size([64, 84])\n"
          ],
          "name": "stdout"
        },
        {
          "output_type": "error",
          "ename": "IndexError",
          "evalue": "ignored",
          "traceback": [
            "\u001b[0;31m---------------------------------------------------------------------------\u001b[0m",
            "\u001b[0;31mIndexError\u001b[0m                                Traceback (most recent call last)",
            "\u001b[0;32m<ipython-input-5-91e5f17c7ea1>\u001b[0m in \u001b[0;36m<module>\u001b[0;34m()\u001b[0m\n\u001b[1;32m     18\u001b[0m         \u001b[0;31m# 순전파 + 역전파 + 최적화를 한 후\u001b[0m\u001b[0;34m\u001b[0m\u001b[0;34m\u001b[0m\u001b[0;34m\u001b[0m\u001b[0m\n\u001b[1;32m     19\u001b[0m         \u001b[0moutputs\u001b[0m \u001b[0;34m=\u001b[0m \u001b[0mnet\u001b[0m\u001b[0;34m(\u001b[0m\u001b[0minputs\u001b[0m\u001b[0;34m)\u001b[0m\u001b[0;34m\u001b[0m\u001b[0;34m\u001b[0m\u001b[0m\n\u001b[0;32m---> 20\u001b[0;31m         \u001b[0mloss\u001b[0m \u001b[0;34m=\u001b[0m \u001b[0mlos\u001b[0m\u001b[0;34m(\u001b[0m\u001b[0moutputs\u001b[0m\u001b[0;34m,\u001b[0m \u001b[0mlabels\u001b[0m\u001b[0;34m)\u001b[0m\u001b[0;34m\u001b[0m\u001b[0;34m\u001b[0m\u001b[0m\n\u001b[0m\u001b[1;32m     21\u001b[0m         \u001b[0mloss\u001b[0m\u001b[0;34m.\u001b[0m\u001b[0mbackward\u001b[0m\u001b[0;34m(\u001b[0m\u001b[0;34m)\u001b[0m\u001b[0;34m\u001b[0m\u001b[0;34m\u001b[0m\u001b[0m\n\u001b[1;32m     22\u001b[0m         \u001b[0mopt\u001b[0m\u001b[0;34m.\u001b[0m\u001b[0mstep\u001b[0m\u001b[0;34m(\u001b[0m\u001b[0;34m)\u001b[0m\u001b[0;34m\u001b[0m\u001b[0;34m\u001b[0m\u001b[0m\n",
            "\u001b[0;32m/usr/local/lib/python3.7/dist-packages/torch/nn/modules/module.py\u001b[0m in \u001b[0;36m_call_impl\u001b[0;34m(self, *input, **kwargs)\u001b[0m\n\u001b[1;32m    887\u001b[0m             \u001b[0mresult\u001b[0m \u001b[0;34m=\u001b[0m \u001b[0mself\u001b[0m\u001b[0;34m.\u001b[0m\u001b[0m_slow_forward\u001b[0m\u001b[0;34m(\u001b[0m\u001b[0;34m*\u001b[0m\u001b[0minput\u001b[0m\u001b[0;34m,\u001b[0m \u001b[0;34m**\u001b[0m\u001b[0mkwargs\u001b[0m\u001b[0;34m)\u001b[0m\u001b[0;34m\u001b[0m\u001b[0;34m\u001b[0m\u001b[0m\n\u001b[1;32m    888\u001b[0m         \u001b[0;32melse\u001b[0m\u001b[0;34m:\u001b[0m\u001b[0;34m\u001b[0m\u001b[0;34m\u001b[0m\u001b[0m\n\u001b[0;32m--> 889\u001b[0;31m             \u001b[0mresult\u001b[0m \u001b[0;34m=\u001b[0m \u001b[0mself\u001b[0m\u001b[0;34m.\u001b[0m\u001b[0mforward\u001b[0m\u001b[0;34m(\u001b[0m\u001b[0;34m*\u001b[0m\u001b[0minput\u001b[0m\u001b[0;34m,\u001b[0m \u001b[0;34m**\u001b[0m\u001b[0mkwargs\u001b[0m\u001b[0;34m)\u001b[0m\u001b[0;34m\u001b[0m\u001b[0;34m\u001b[0m\u001b[0m\n\u001b[0m\u001b[1;32m    890\u001b[0m         for hook in itertools.chain(\n\u001b[1;32m    891\u001b[0m                 \u001b[0m_global_forward_hooks\u001b[0m\u001b[0;34m.\u001b[0m\u001b[0mvalues\u001b[0m\u001b[0;34m(\u001b[0m\u001b[0;34m)\u001b[0m\u001b[0;34m,\u001b[0m\u001b[0;34m\u001b[0m\u001b[0;34m\u001b[0m\u001b[0m\n",
            "\u001b[0;32m/usr/local/lib/python3.7/dist-packages/torch/nn/modules/loss.py\u001b[0m in \u001b[0;36mforward\u001b[0;34m(self, input, target)\u001b[0m\n\u001b[1;32m   1046\u001b[0m         \u001b[0;32massert\u001b[0m \u001b[0mself\u001b[0m\u001b[0;34m.\u001b[0m\u001b[0mweight\u001b[0m \u001b[0;32mis\u001b[0m \u001b[0;32mNone\u001b[0m \u001b[0;32mor\u001b[0m \u001b[0misinstance\u001b[0m\u001b[0;34m(\u001b[0m\u001b[0mself\u001b[0m\u001b[0;34m.\u001b[0m\u001b[0mweight\u001b[0m\u001b[0;34m,\u001b[0m \u001b[0mTensor\u001b[0m\u001b[0;34m)\u001b[0m\u001b[0;34m\u001b[0m\u001b[0;34m\u001b[0m\u001b[0m\n\u001b[1;32m   1047\u001b[0m         return F.cross_entropy(input, target, weight=self.weight,\n\u001b[0;32m-> 1048\u001b[0;31m                                ignore_index=self.ignore_index, reduction=self.reduction)\n\u001b[0m\u001b[1;32m   1049\u001b[0m \u001b[0;34m\u001b[0m\u001b[0m\n\u001b[1;32m   1050\u001b[0m \u001b[0;34m\u001b[0m\u001b[0m\n",
            "\u001b[0;32m/usr/local/lib/python3.7/dist-packages/torch/nn/functional.py\u001b[0m in \u001b[0;36mcross_entropy\u001b[0;34m(input, target, weight, size_average, ignore_index, reduce, reduction)\u001b[0m\n\u001b[1;32m   2691\u001b[0m     \u001b[0;32mif\u001b[0m \u001b[0msize_average\u001b[0m \u001b[0;32mis\u001b[0m \u001b[0;32mnot\u001b[0m \u001b[0;32mNone\u001b[0m \u001b[0;32mor\u001b[0m \u001b[0mreduce\u001b[0m \u001b[0;32mis\u001b[0m \u001b[0;32mnot\u001b[0m \u001b[0;32mNone\u001b[0m\u001b[0;34m:\u001b[0m\u001b[0;34m\u001b[0m\u001b[0;34m\u001b[0m\u001b[0m\n\u001b[1;32m   2692\u001b[0m         \u001b[0mreduction\u001b[0m \u001b[0;34m=\u001b[0m \u001b[0m_Reduction\u001b[0m\u001b[0;34m.\u001b[0m\u001b[0mlegacy_get_string\u001b[0m\u001b[0;34m(\u001b[0m\u001b[0msize_average\u001b[0m\u001b[0;34m,\u001b[0m \u001b[0mreduce\u001b[0m\u001b[0;34m)\u001b[0m\u001b[0;34m\u001b[0m\u001b[0;34m\u001b[0m\u001b[0m\n\u001b[0;32m-> 2693\u001b[0;31m     \u001b[0;32mreturn\u001b[0m \u001b[0mnll_loss\u001b[0m\u001b[0;34m(\u001b[0m\u001b[0mlog_softmax\u001b[0m\u001b[0;34m(\u001b[0m\u001b[0minput\u001b[0m\u001b[0;34m,\u001b[0m \u001b[0;36m1\u001b[0m\u001b[0;34m)\u001b[0m\u001b[0;34m,\u001b[0m \u001b[0mtarget\u001b[0m\u001b[0;34m,\u001b[0m \u001b[0mweight\u001b[0m\u001b[0;34m,\u001b[0m \u001b[0;32mNone\u001b[0m\u001b[0;34m,\u001b[0m \u001b[0mignore_index\u001b[0m\u001b[0;34m,\u001b[0m \u001b[0;32mNone\u001b[0m\u001b[0;34m,\u001b[0m \u001b[0mreduction\u001b[0m\u001b[0;34m)\u001b[0m\u001b[0;34m\u001b[0m\u001b[0;34m\u001b[0m\u001b[0m\n\u001b[0m\u001b[1;32m   2694\u001b[0m \u001b[0;34m\u001b[0m\u001b[0m\n\u001b[1;32m   2695\u001b[0m \u001b[0;34m\u001b[0m\u001b[0m\n",
            "\u001b[0;32m/usr/local/lib/python3.7/dist-packages/torch/nn/functional.py\u001b[0m in \u001b[0;36mnll_loss\u001b[0;34m(input, target, weight, size_average, ignore_index, reduce, reduction)\u001b[0m\n\u001b[1;32m   2386\u001b[0m         )\n\u001b[1;32m   2387\u001b[0m     \u001b[0;32mif\u001b[0m \u001b[0mdim\u001b[0m \u001b[0;34m==\u001b[0m \u001b[0;36m2\u001b[0m\u001b[0;34m:\u001b[0m\u001b[0;34m\u001b[0m\u001b[0;34m\u001b[0m\u001b[0m\n\u001b[0;32m-> 2388\u001b[0;31m         \u001b[0mret\u001b[0m \u001b[0;34m=\u001b[0m \u001b[0mtorch\u001b[0m\u001b[0;34m.\u001b[0m\u001b[0m_C\u001b[0m\u001b[0;34m.\u001b[0m\u001b[0m_nn\u001b[0m\u001b[0;34m.\u001b[0m\u001b[0mnll_loss\u001b[0m\u001b[0;34m(\u001b[0m\u001b[0minput\u001b[0m\u001b[0;34m,\u001b[0m \u001b[0mtarget\u001b[0m\u001b[0;34m,\u001b[0m \u001b[0mweight\u001b[0m\u001b[0;34m,\u001b[0m \u001b[0m_Reduction\u001b[0m\u001b[0;34m.\u001b[0m\u001b[0mget_enum\u001b[0m\u001b[0;34m(\u001b[0m\u001b[0mreduction\u001b[0m\u001b[0;34m)\u001b[0m\u001b[0;34m,\u001b[0m \u001b[0mignore_index\u001b[0m\u001b[0;34m)\u001b[0m\u001b[0;34m\u001b[0m\u001b[0;34m\u001b[0m\u001b[0m\n\u001b[0m\u001b[1;32m   2389\u001b[0m     \u001b[0;32melif\u001b[0m \u001b[0mdim\u001b[0m \u001b[0;34m==\u001b[0m \u001b[0;36m4\u001b[0m\u001b[0;34m:\u001b[0m\u001b[0;34m\u001b[0m\u001b[0;34m\u001b[0m\u001b[0m\n\u001b[1;32m   2390\u001b[0m         \u001b[0mret\u001b[0m \u001b[0;34m=\u001b[0m \u001b[0mtorch\u001b[0m\u001b[0;34m.\u001b[0m\u001b[0m_C\u001b[0m\u001b[0;34m.\u001b[0m\u001b[0m_nn\u001b[0m\u001b[0;34m.\u001b[0m\u001b[0mnll_loss2d\u001b[0m\u001b[0;34m(\u001b[0m\u001b[0minput\u001b[0m\u001b[0;34m,\u001b[0m \u001b[0mtarget\u001b[0m\u001b[0;34m,\u001b[0m \u001b[0mweight\u001b[0m\u001b[0;34m,\u001b[0m \u001b[0m_Reduction\u001b[0m\u001b[0;34m.\u001b[0m\u001b[0mget_enum\u001b[0m\u001b[0;34m(\u001b[0m\u001b[0mreduction\u001b[0m\u001b[0;34m)\u001b[0m\u001b[0;34m,\u001b[0m \u001b[0mignore_index\u001b[0m\u001b[0;34m)\u001b[0m\u001b[0;34m\u001b[0m\u001b[0;34m\u001b[0m\u001b[0m\n",
            "\u001b[0;31mIndexError\u001b[0m: Target 19 is out of bounds."
          ]
        }
      ]
    },
    {
      "cell_type": "code",
      "metadata": {
        "id": "7Ex1WU-tixN2"
      },
      "source": [
        ""
      ],
      "execution_count": null,
      "outputs": []
    },
    {
      "cell_type": "code",
      "metadata": {
        "id": "6s1CRhhE27i0",
        "colab": {
          "base_uri": "https://localhost:8080/",
          "height": 232
        },
        "outputId": "e002f1d4-ab45-4561-a85e-495997502a86"
      },
      "source": [
        ""
      ],
      "execution_count": null,
      "outputs": [
        {
          "output_type": "error",
          "ename": "TypeError",
          "evalue": "ignored",
          "traceback": [
            "\u001b[0;31m---------------------------------------------------------------------------\u001b[0m",
            "\u001b[0;31mTypeError\u001b[0m                                 Traceback (most recent call last)",
            "\u001b[0;32m<ipython-input-6-073d589b05d3>\u001b[0m in \u001b[0;36m<module>\u001b[0;34m()\u001b[0m\n\u001b[1;32m      4\u001b[0m \u001b[0mnet\u001b[0m\u001b[0;34m.\u001b[0m\u001b[0mtrain\u001b[0m\u001b[0;34m(\u001b[0m\u001b[0;34m)\u001b[0m\u001b[0;34m\u001b[0m\u001b[0;34m\u001b[0m\u001b[0m\n\u001b[1;32m      5\u001b[0m \u001b[0;34m\u001b[0m\u001b[0m\n\u001b[0;32m----> 6\u001b[0;31m \u001b[0minputs_testing\u001b[0m\u001b[0;34m,\u001b[0m \u001b[0mlabels_testing\u001b[0m \u001b[0;34m=\u001b[0m \u001b[0mtestloader\u001b[0m\u001b[0;34m[\u001b[0m\u001b[0;36m0\u001b[0m\u001b[0;34m]\u001b[0m\u001b[0;34m.\u001b[0m\u001b[0mto\u001b[0m\u001b[0;34m(\u001b[0m\u001b[0mdevice\u001b[0m\u001b[0;34m)\u001b[0m\u001b[0;34m,\u001b[0m \u001b[0mtestloader\u001b[0m\u001b[0;34m[\u001b[0m\u001b[0;36m1\u001b[0m\u001b[0;34m]\u001b[0m\u001b[0;34m.\u001b[0m\u001b[0mto\u001b[0m\u001b[0;34m(\u001b[0m\u001b[0mdevice\u001b[0m\u001b[0;34m)\u001b[0m\u001b[0;34m\u001b[0m\u001b[0;34m\u001b[0m\u001b[0m\n\u001b[0m\u001b[1;32m      7\u001b[0m \u001b[0;32mfor\u001b[0m \u001b[0mepoch\u001b[0m \u001b[0;32min\u001b[0m \u001b[0mrange\u001b[0m\u001b[0;34m(\u001b[0m\u001b[0mnum_epochs\u001b[0m\u001b[0;34m)\u001b[0m\u001b[0;34m:\u001b[0m\u001b[0;34m\u001b[0m\u001b[0;34m\u001b[0m\u001b[0m\n\u001b[1;32m      8\u001b[0m   \u001b[0mnet\u001b[0m\u001b[0;34m.\u001b[0m\u001b[0mtrain\u001b[0m\u001b[0;34m(\u001b[0m\u001b[0;34m)\u001b[0m\u001b[0;34m\u001b[0m\u001b[0;34m\u001b[0m\u001b[0m\n",
            "\u001b[0;31mTypeError\u001b[0m: 'DataLoader' object is not subscriptable"
          ]
        }
      ]
    },
    {
      "cell_type": "markdown",
      "metadata": {
        "id": "uMTlJPCr27i1"
      },
      "source": [
        "Draw the loss for training and the loss for testing. Do you see the\n",
        "training loss keep going down and the testing loss at some point\n",
        "rising above the testing curve?"
      ]
    },
    {
      "cell_type": "code",
      "metadata": {
        "id": "ZwK70tbR27i1"
      },
      "source": [
        ""
      ],
      "execution_count": null,
      "outputs": []
    },
    {
      "cell_type": "markdown",
      "metadata": {
        "id": "L2i14yq227i2"
      },
      "source": [
        "Rewrite the training loop, and instead of running over the whole\n",
        "dataset, only run the first 5 minibatches. Run many more epochs. Redraw the curves\n",
        "for training and testing loss. You should find that the training loss tends to 0, while the testing loss shows the nice convex pattern shown in the lecture."
      ]
    },
    {
      "cell_type": "code",
      "metadata": {
        "id": "c_7CoZ4V27i2"
      },
      "source": [
        ""
      ],
      "execution_count": null,
      "outputs": []
    },
    {
      "cell_type": "markdown",
      "metadata": {
        "id": "p7fcTxoV27i2"
      },
      "source": [
        "One final challenge. Create a large network (at least a million parameters). Run training for a couple hundred epochs, and check the testing and training losses. \n",
        "\n",
        "An aside, you may find the double descent curve, where the testing loss starts off going down, goes up as expected from bias-variance, but then starts to go down again. Why this happens is still unknown, but it is commonly seen training neural networks and possibly related to the mysterious generalizability of these networks with millions of parameters. \n",
        "\n",
        "https://openai.com/blog/deep-double-descent/\n",
        "\n",
        "(Note: this exact phenomena may be difficult to acheive without BatchNorm, which we will cover later, but try to train a large network to good accuracy for CIFAR100)"
      ]
    },
    {
      "cell_type": "code",
      "metadata": {
        "id": "LH7RAahO27i2"
      },
      "source": [
        ""
      ],
      "execution_count": null,
      "outputs": []
    },
    {
      "cell_type": "code",
      "metadata": {
        "id": "2btcExZR27i2"
      },
      "source": [
        ""
      ],
      "execution_count": null,
      "outputs": []
    }
  ]
}